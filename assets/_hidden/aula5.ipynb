{
 "cells": [
  {
   "cell_type": "markdown",
   "metadata": {},
   "source": [
    "# 4. Gráficos de linha e passagem do tempo\n",
    "\n",
    "Nessa aula, vamos introduzir gráficos que lidem com a passagem do tempo. Vamos focar em gráficos de linha, que são comumente utilizados para representer a variação de determinada medida ao longo do tempo.\n",
    "\n",
    "## 4.1 Introdução\n",
    "\n",
    "Nas aulas anteriores vimos como griar gráficos de barra de tipos diferentes e com propósitos distintos. Um ponto comum desses gráficos é a necessidade de abordar uma variável como categoria, para representar barras diferentes.\n",
    "\n",
    "Nessa aula iremos ver como criar gráficos que nos auxiliem a entender como uma variável numérica se comporta ao longo do tempo. Para isso, precisamos ter alguma variável que represente o tempo, como uma data, ou mesmo ano ou meses representados numericamente.\n",
    "\n",
    "Nosso instrumento principal será o gráfico de linha, através da função `sns.lineplot()`. Essa função é muito similar a `sns.barplot()`, mas ao invés de barras, ela plota linhas que conectam os pontos.\n",
    "\n",
    "Vamos começar importando as biblotecas e carregandos os dados como de costume."
   ]
  },
  {
   "cell_type": "code",
   "execution_count": null,
   "metadata": {},
   "outputs": [],
   "source": [
    "import pandas as pd\n",
    "import seaborn as sns\n",
    "import matplotlib.pyplot as plt"
   ]
  },
  {
   "cell_type": "code",
   "execution_count": null,
   "metadata": {},
   "outputs": [],
   "source": []
  }
 ],
 "metadata": {
  "language_info": {
   "name": "python"
  }
 },
 "nbformat": 4,
 "nbformat_minor": 2
}
