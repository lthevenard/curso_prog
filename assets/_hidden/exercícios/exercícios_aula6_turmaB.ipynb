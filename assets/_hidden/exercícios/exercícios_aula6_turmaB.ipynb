{
 "cells": [
  {
   "cell_type": "markdown",
   "metadata": {},
   "source": [
    "# Avaliação Continuada - Aula 6\n",
    "\n",
    "\n",
    "**Execute a célula a seguir para importar as bibliotecas de que vamos precisar e criar a variável `titanic` com nossa base de dados.**"
   ]
  },
  {
   "cell_type": "code",
   "execution_count": null,
   "metadata": {},
   "outputs": [],
   "source": [
    "# Importando a biblioteca seaborn\n",
    "import seaborn as sns\n",
    "import matplotlib.pyplot as plt\n",
    "\n",
    "# Carregando a base de dados 'titanic'\n",
    "titanic = sns.load_dataset(\"titanic\")\n",
    "\n",
    "titanic.head()"
   ]
  },
  {
   "cell_type": "markdown",
   "metadata": {},
   "source": [
    "### Sobre os dados\n",
    "\n",
    "No exercício de hoje, vamos utilizar as variáveis:\n",
    "\n",
    "- `fare`: indica o valor pago pela passagem, em dólares ($).\n",
    "- `survived`: indica se o passageiro sobreviveu (`\"1\"`) ou não sobreviveu (`\"0\"`) ao afundamento do Titanic.\n",
    "\n",
    "### Exercício de hoje - Parte 1\n",
    "\n",
    "Utilize a função `sns.boxplot()` para criar um gráfico boxplot que mostre a distribuição de preços de passagem pagos por passageiros que sobreviveram ou não ao acidente.\n",
    "\n",
    "Coloque a variável que indica sobrevivência (coluna `\"survived\"`) no eixo X e a variável que indica o preço da passagem (coluna `\"fare\"`) no eixo Y.\n",
    "\n",
    "Após escrever a linha de código de sua resposta, execute a célula para mostrar o gráfico a partir da base `titanic`.\n",
    "\n",
    "**Importante: antes de executar o código da sua resposta, não deixe de executar a célula de código que está no início deste caderno, que importa as bibliotecas e carrega os dados.**"
   ]
  },
  {
   "cell_type": "code",
   "execution_count": null,
   "metadata": {},
   "outputs": [],
   "source": [
    "# Escreva sua resposta abaixo e execute a célula para gerar o gráfico\n"
   ]
  },
  {
   "cell_type": "markdown",
   "metadata": {},
   "source": [
    "### Exercício de hoje - Parte 2\n",
    "\n",
    "Parece que os passageiros que sobreviveram pagaram mais pela viagem! Para mostrar esse resultado interessante, produza novamente o mesmo gráfico, mas agora você deve customizá-lo da seguinte maneira:\n",
    "- aumente o tamanho das dimensões do gráfico usando a função: `plt.subplots()` (uma sugestão é usar: `figsize=(10,6)`)\n",
    "- adicione ao gráfico o seguinte título: `\"Pay more for your ticket and you might survive the Titanic!\"`,\n",
    "- adicione ao eixo `x` o rótulo: `\"Passenger survived the Titanic? (0 = No, 1 = Yes)\"`.\n",
    "- adicione ao eixo `y` o rótulo: `\"Fare ($)\"`."
   ]
  },
  {
   "cell_type": "code",
   "execution_count": null,
   "metadata": {},
   "outputs": [],
   "source": [
    "# Escreva sua resposta abaixo e execute a célula para gerar o gráfico\n"
   ]
  }
 ],
 "metadata": {
  "kernelspec": {
   "display_name": "base",
   "language": "python",
   "name": "python3"
  },
  "language_info": {
   "codemirror_mode": {
    "name": "ipython",
    "version": 3
   },
   "file_extension": ".py",
   "mimetype": "text/x-python",
   "name": "python",
   "nbconvert_exporter": "python",
   "pygments_lexer": "ipython3",
   "version": "3.12.4"
  }
 },
 "nbformat": 4,
 "nbformat_minor": 2
}
