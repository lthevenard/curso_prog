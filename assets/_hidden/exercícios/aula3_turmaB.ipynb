{
 "cells": [
  {
   "cell_type": "markdown",
   "metadata": {},
   "source": [
    "# Avaliação Continuada - Aula 3\n",
    "\n",
    "### Base de Dados - Turma B\n",
    "\n",
    "Os exercícios de avaliação continuada da **Turma B** serão realizados com a base de dados de passageiros da embarcação Titanic, chamada de `titanic`. Essa é uma base de dados que é disponibilizada como dados de exemplo pela própria biblioteca `seaborn`, por meio da função `load_dataset`. Execute a célula a seguir para importar as bibliotecas de que vamos precisar e criar a variável `titanic` com nossa base de dados. "
   ]
  },
  {
   "cell_type": "code",
   "execution_count": null,
   "metadata": {},
   "outputs": [],
   "source": [
    "# Importando a biblioteca seaborn\n",
    "import seaborn as sns\n",
    "\n",
    "# Carregando a base de dados 'taxis'\n",
    "titanic = sns.load_dataset(\"titanic\")\n",
    "\n",
    "titanic.head()"
   ]
  },
  {
   "cell_type": "markdown",
   "metadata": {},
   "source": [
    "### Sobre os dados\n",
    "\n",
    "A base `titanic` contém informações sobre 891 passageiros do Titanic (unidade de observação). A base contém 15 variáveis (colunas), incluindo o sexo e a idade do passageiro, se ele sobreviveu ou não ao naufrágio, o preço pago pela viagem, a classe em que ele estava situado (Primeira Classe, Segunda Classe ou Terceira Classe), dentre outras informações.\n",
    "\n",
    "No exercício de hoje, vamos utilizar as variáveis:\n",
    "\n",
    "1.  `embark_town`, referente à cidade de partida, na qual o passageiro embarcou no Titanic;\n",
    "2. `fare`, referente ao valor da passagem paga pelo passageiro;\n",
    "\n",
    "Queremos verificar se o valor médio da passagem varia de acordo com o local no qual a pessoa embarcou no navio.\n",
    "\n",
    "### Exercício de hoje\n",
    "\n",
    "Utilize a função `sns.barplot()` para criar um gráfico de barras que mostra o valor médio da passagem (coluna `\"fare\"`) pago pelos passegeiros do titanic, de acordo com o local no qual eles embarcaram (`embark_town`). \n",
    "\n",
    "Escolha também uma cor para seu gráfico, diferente da cor padrão. Consulte a lista de cores nomeadas abaixo:\n",
    "\n",
    "<img src=\"https://matplotlib.org/2.1.0/_images/sphx_glr_named_colors_001.png\" alt=\"Color names\" style=\"width: 600px;\"/>\n",
    "\n",
    "Após escrever a linha de código de sua resposta, execute a célula para mostrar o gráfico a partir da base `titanic`.\n",
    "\n",
    "**Importante: antes de executar o código da sua resposta, não deixe de executar a célula de código que está no início deste caderno, que importa as bibliotecas e carrega os dados.**"
   ]
  },
  {
   "cell_type": "code",
   "execution_count": null,
   "metadata": {},
   "outputs": [],
   "source": [
    "## Escreva sua resposta abaixo e execute a célula para gerar o gráfico\n"
   ]
  },
  {
   "cell_type": "markdown",
   "metadata": {},
   "source": [
    "### Exercício - Parte 2\n",
    "\n",
    "Copie o código do gráfico anterior.\n",
    "\n",
    "Agora você deve remover a barra de erro do gráfico, que é exibida por padrão. Para isso, utilize o argumento `errorbar` com o valor `None`."
   ]
  },
  {
   "cell_type": "code",
   "execution_count": null,
   "metadata": {},
   "outputs": [],
   "source": [
    "## Escreva sua resposta abaixo e execute a célula para gerar o gráfico\n"
   ]
  }
 ],
 "metadata": {
  "kernelspec": {
   "display_name": "base",
   "language": "python",
   "name": "python3"
  },
  "language_info": {
   "codemirror_mode": {
    "name": "ipython",
    "version": 3
   },
   "file_extension": ".py",
   "mimetype": "text/x-python",
   "name": "python",
   "nbconvert_exporter": "python",
   "pygments_lexer": "ipython3",
   "version": "3.11.3"
  }
 },
 "nbformat": 4,
 "nbformat_minor": 2
}
