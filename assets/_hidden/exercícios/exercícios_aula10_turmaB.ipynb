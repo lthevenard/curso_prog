{
 "cells": [
  {
   "cell_type": "markdown",
   "metadata": {},
   "source": [
    "# Avaliação Continuada - Aula 9\n",
    "\n",
    "\n",
    "**Execute a célula a seguir para importar as bibliotecas de que vamos precisar e criar a variável `titanic` com nossa base de dados.**"
   ]
  },
  {
   "cell_type": "code",
   "execution_count": null,
   "metadata": {},
   "outputs": [],
   "source": [
    "# Importando a biblioteca seaborn\n",
    "import seaborn as sns\n",
    "import matplotlib.pyplot as plt\n",
    "\n",
    "# Carregando a base de dados 'titanic'\n",
    "titanic = sns.load_dataset(\"titanic\")\n",
    "\n",
    "titanic.head()"
   ]
  },
  {
   "cell_type": "markdown",
   "metadata": {},
   "source": [
    "### Sobre os dados\n",
    "\n",
    "No exercício de hoje, vamos utilizar as variáveis:\n",
    "\n",
    "- `fare`: indica o valor pago pela passagem, em dólares ($).\n",
    "- `survived`: indica se o passageiro sobreviveu ao naufrágio, sendo 1 para sobreviveu e 0 para não sobreviveu.\n",
    "- `embark_town`: indica a cidade onde o passageiro embarcou no navio.\n",
    "- `sex`: indica o sexo do passageiro, sendo `male` para homens e `female` para mulheres.\n",
    "\n",
    "### Exercício de hoje - Parte 1\n",
    "\n",
    "No exercício de hoje estamos interessados em analisar apenas os passageiros que embarcaram em Southampton.\n",
    "\n",
    "Utilize a função `query` para selecionar apenas as linhas da base de dados que correspondem a passageiros que embarcaram enssa cidade (`\"embark_town == 'Southampton'\"`).\n",
    "\n",
    "Salve o resultado em uma variável chamada `titanic_s`."
   ]
  },
  {
   "cell_type": "code",
   "execution_count": 4,
   "metadata": {},
   "outputs": [],
   "source": [
    "# continue o código abaixo\n",
    "titanic_s = titanic\n"
   ]
  },
  {
   "cell_type": "markdown",
   "metadata": {},
   "source": [
    "### Exercício de hoje - Parte 2\n",
    "\n",
    "Seu trabalho hoje é modificar o gráfico abaixo explicando o achado de nossa análise.\n",
    "\n",
    "Antes de executar as células abaixo você deve ter feito a parte 1 do exercício.\n",
    "\n",
    "Você deve partir do gráfico abaixo, e deverá adicionar informações para facilitar sua interpretação:\n",
    "\n",
    "(Não mexa na célula a seguir. Há instruções e uma célular para você fazer seu código logo abaixo.)"
   ]
  },
  {
   "cell_type": "code",
   "execution_count": null,
   "metadata": {},
   "outputs": [],
   "source": [
    "sns.barplot(\n",
    "    x=\"sex\",\n",
    "    y=\"survived\",\n",
    "    estimator=\"mean\", # lembrando que por padrão o estimator é a média\n",
    "    data=titanic_s,\n",
    ")"
   ]
  },
  {
   "cell_type": "markdown",
   "metadata": {},
   "source": [
    "Sua tarefa é modificar o código abaixo para:\n",
    "\n",
    "1. Remover a barra de erro do gráfico, usando o argumento `errorbar`\n",
    "2. Adicionar um título que explique qual o significado de cada barra.\n",
    "2. Adicionar o valor de cada barra ao gráfico"
   ]
  },
  {
   "cell_type": "code",
   "execution_count": null,
   "metadata": {},
   "outputs": [],
   "source": [
    "fig, ax = plt.subplots()\n",
    "\n",
    "sns.barplot(\n",
    "    x=\"sex\",\n",
    "    y=\"survived\",\n",
    "    data=titanic_s,\n",
    "    ax=ax,\n",
    "    # remova o # para descomentar a linha abaixo\n",
    "    # errorbar=,\n",
    ")\n",
    "\n",
    "# adicione seu código abaixo\n"
   ]
  },
  {
   "cell_type": "code",
   "execution_count": null,
   "metadata": {},
   "outputs": [],
   "source": []
  }
 ],
 "metadata": {
  "kernelspec": {
   "display_name": "eda",
   "language": "python",
   "name": "python3"
  },
  "language_info": {
   "codemirror_mode": {
    "name": "ipython",
    "version": 3
   },
   "file_extension": ".py",
   "mimetype": "text/x-python",
   "name": "python",
   "nbconvert_exporter": "python",
   "pygments_lexer": "ipython3",
   "version": "3.11.3"
  }
 },
 "nbformat": 4,
 "nbformat_minor": 2
}
