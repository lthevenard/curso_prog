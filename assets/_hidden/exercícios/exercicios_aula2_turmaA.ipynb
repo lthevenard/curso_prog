{
 "cells": [
  {
   "cell_type": "markdown",
   "metadata": {},
   "source": [
    "# Avaliação Continuada\n",
    "\n",
    "## Aula 2\n",
    "\n",
    "### Base de Dados - Turma A\n",
    "\n",
    "Os exercícios de avaliação continuada da **Turma A** serão realizados com a base de dados de corridas de taxi em Nova York, chamada de `taxis`. Essa é uma base de dados que é disponibilizada como dados de exemplo pela própria biblioteca `seaborn`, por meio da função `load_dataset`. Execute a célula a seguir para importar as bibliotecas de que vamos precisar e criar a variável `taxis` com nossa base de dados. "
   ]
  },
  {
   "cell_type": "code",
   "execution_count": null,
   "metadata": {},
   "outputs": [],
   "source": [
    "# Importando a biblioteca seaborn\n",
    "import seaborn as sns\n",
    "\n",
    "# Carregando a base de dados 'taxis'\n",
    "taxis = sns.load_dataset(\"taxis\")\n",
    "taxis"
   ]
  },
  {
   "cell_type": "markdown",
   "metadata": {},
   "source": [
    "### Sobre os dados\n",
    "\n",
    "A base `taxis` contém informações sobre 6.433 corridas de taxi (unidade de observação) de Nova Iorque, ocorridas em março de 2019. A base contém 14 variáveis (colunas), incluindo a data e horário de início e de fim de cada corrida, o número de passageiros, a distância em milhas percorrida, o preço da viagem, a zona e o bairro de embarque e de destino, entre outras informações.\n",
    "\n",
    "No exercício de hoje, vamos utilizar apenas a variável `pickup_borough`, referente ao bairro de destino das viagens. Queremos verificar para onde a maioria das corridas em NYC se direcionaram, dentre as categorias de destino disponíveis na base.\n",
    "\n",
    "### Exercício de hoje\n",
    "\n",
    "Utilize a função `sns.countplot()` para criar um gráfico de barras que mostra a frequência dos bairros de destino (coluna `\"pickup_borough\"`) das viagens na base de dados `taxi`.\n",
    "\n",
    "Após escrever a linha de código de sua resposta, execute a célula para mostrar o gráfico. **Importante**: antes de executar o código da sua resposta, não deixe de executar a célula de código que está no início deste caderno, que importa as bibliotecas e carrega os dados."
   ]
  },
  {
   "cell_type": "code",
   "execution_count": null,
   "metadata": {},
   "outputs": [],
   "source": [
    "## Escreva sua resposta abaixo e execute a célula para gerar o gráfico\n"
   ]
  }
 ],
 "metadata": {
  "kernelspec": {
   "display_name": "base",
   "language": "python",
   "name": "python3"
  },
  "language_info": {
   "codemirror_mode": {
    "name": "ipython",
    "version": 3
   },
   "file_extension": ".py",
   "mimetype": "text/x-python",
   "name": "python",
   "nbconvert_exporter": "python",
   "pygments_lexer": "ipython3",
   "version": "3.12.4"
  }
 },
 "nbformat": 4,
 "nbformat_minor": 2
}
