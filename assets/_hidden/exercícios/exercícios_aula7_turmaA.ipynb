{
 "cells": [
  {
   "cell_type": "markdown",
   "metadata": {},
   "source": [
    "# Avaliação Continuada - Aula 7\n",
    "\n",
    "**Execute a célula a seguir para importar as bibliotecas de que vamos precisar e criar a variável `taxis` com nossa base de dados.**"
   ]
  },
  {
   "cell_type": "code",
   "execution_count": null,
   "metadata": {},
   "outputs": [],
   "source": [
    "# Importando a biblioteca seaborn\n",
    "import seaborn as sns\n",
    "import matplotlib.pyplot as plt\n",
    "\n",
    "# Carregando a base de dados 'taxis'\n",
    "taxis = sns.load_dataset(\"taxis\")\n",
    "\n",
    "# Essa linha cria uma nova coluna\n",
    "# Você não precisa se preocupar com ela no momento\n",
    "taxis[\"pickup_hour\"] = taxis[\"pickup\"].dt.hour\n",
    "\n",
    "taxis.head(2)"
   ]
  },
  {
   "cell_type": "markdown",
   "metadata": {},
   "source": [
    "### Sobre os dados\n",
    "\n",
    "\n",
    "No exercício de hoje, vamos praticar a customização de gráficos. Vamos partir das seguintes variáveis:\n",
    "\n",
    "- `pickup_hour`: hora em que a viagem foi iniciada.\n",
    "- `tip`: valor da gorjeta dada ao motorista.\n",
    "- `color`: cor do táxi.\t\n",
    "\n",
    "Vamos continuar trabalhando quase de onde paramos no exercício anterior, buscando a melhor forma de representar o que encontramos.\n",
    "\n",
    "Você começará trabalhando do gráfico abaixo:\n"
   ]
  },
  {
   "cell_type": "code",
   "execution_count": null,
   "metadata": {},
   "outputs": [],
   "source": [
    "sns.pointplot(\n",
    "    x=\"tip\",\n",
    "    y=\"color\",\n",
    "    data=taxis\n",
    ")"
   ]
  },
  {
   "cell_type": "markdown",
   "metadata": {},
   "source": [
    "# Exercício de hoje - Parte 1\n",
    "\n",
    "Você deve alterar o gráfico anterior para mudar três aspectos:\n",
    "\n",
    "1. Remover a linha que liga os pontos. Você pode fazer isso passando uma string vazia para o argumento `linestyle` da função.\n",
    "2. Adicionar o indicador ao fim da barra de erro. Você pode fazer isso com o argumento `capsize`. Uma sugestão é usar o valor `0.15`\n",
    "3. Alterar a barra de erro para que ela exiba o percentil com os 50% centrais dos dados"
   ]
  },
  {
   "cell_type": "code",
   "execution_count": null,
   "metadata": {},
   "outputs": [],
   "source": [
    "# altere o código como necessário\n",
    "sns.pointplot(\n",
    "    x=\"tip\",\n",
    "    y=\"color\",\n",
    "    data=taxis\n",
    ")"
   ]
  },
  {
   "cell_type": "markdown",
   "metadata": {},
   "source": [
    "### Exercício de hoje - Parte 2\n",
    "\n",
    "Agora você deve customizar outro gráfico:"
   ]
  },
  {
   "cell_type": "code",
   "execution_count": null,
   "metadata": {},
   "outputs": [],
   "source": [
    "sns.stripplot(\n",
    "    x=\"tip\",\n",
    "    y=\"pickup_borough\",\n",
    "    hue=\"color\",\n",
    "    dodge=True, # esse argumento faz com que as categories do hue não fiquem sobrepostas\n",
    "    data=taxis\n",
    ")"
   ]
  },
  {
   "cell_type": "markdown",
   "metadata": {},
   "source": [
    "\n",
    "Adicione título e rótulos nos eixos, e defina também uma paleta de cores diferente da padrão. Você pode criar a paleta escolhendo cada uma das cores ([veja a lista de cores](https://matplotlib.org/stable/gallery/color/named_colors.html)) ou escolher uma paleta de cores pré-definida.\n",
    "\n",
    "Veja algumas das paletas que você pode escolher pelo nome:\n",
    "\n",
    "<p float=\"left\">\n",
    "  <img src=\"https://jlcoto.github.io/img/brewer_sequential.png\" width=\"550\" />\n",
    "  <img src=\"https://content.codecademy.com/programs/dataviz-python/unit-5/seaborn-design-2/article2_image6.png\" width=\"320\" /> \n",
    "</p>\n",
    "\n",
    "Altere a paleta com o argumento `palette` e defina título e rótulos apropriados para os eixos X e Y.\n",
    "\n",
    "Se preferir, você pode criar um dicionário para definir sua paleta preenchendo a variável `minha_paleta`.\n",
    "\n"
   ]
  },
  {
   "cell_type": "code",
   "execution_count": null,
   "metadata": {},
   "outputs": [],
   "source": [
    "# altere o código como necessário\n",
    "minha_paleta = {}\n",
    "\n",
    "fig, ax = plt.subplots()\n",
    "\n",
    "sns.stripplot(\n",
    "    x=\"tip\",\n",
    "    y=\"pickup_borough\",\n",
    "    hue=\"color\",\n",
    "    dodge=True, \n",
    "    data=taxis,\n",
    "    \n",
    ")"
   ]
  }
 ],
 "metadata": {
  "kernelspec": {
   "display_name": "base",
   "language": "python",
   "name": "python3"
  },
  "language_info": {
   "codemirror_mode": {
    "name": "ipython",
    "version": 3
   },
   "file_extension": ".py",
   "mimetype": "text/x-python",
   "name": "python",
   "nbconvert_exporter": "python",
   "pygments_lexer": "ipython3",
   "version": "3.11.3"
  }
 },
 "nbformat": 4,
 "nbformat_minor": 2
}
