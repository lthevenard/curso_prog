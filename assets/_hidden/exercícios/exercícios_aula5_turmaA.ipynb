{
 "cells": [
  {
   "cell_type": "markdown",
   "metadata": {},
   "source": [
    "# Avaliação Continuada - Aula 5\n",
    "\n",
    "**Execute a célula a seguir para importar as bibliotecas de que vamos precisar e criar a variável `taxis` com nossa base de dados.**"
   ]
  },
  {
   "cell_type": "code",
   "execution_count": null,
   "metadata": {},
   "outputs": [],
   "source": [
    "# Importando a biblioteca seaborn\n",
    "import seaborn as sns\n",
    "import matplotlib.pyplot as plt\n",
    "\n",
    "# Carregando a base de dados 'taxis'\n",
    "taxis = sns.load_dataset(\"taxis\")\n",
    "\n",
    "# Essa linha cria uma nova coluna\n",
    "# Você não precisa se preocupar com ela no momento\n",
    "taxis[\"pickup_hour\"] = taxis[\"pickup\"].dt.hour\n",
    "\n",
    "taxis.head(2)"
   ]
  },
  {
   "cell_type": "markdown",
   "metadata": {},
   "source": [
    "### Sobre os dados\n",
    "\n",
    "\n",
    "No exercício de hoje, vamos utilizar as seguintes variáveis:\n",
    "\n",
    "- `pickup_hour`: hora em que a viagem foi iniciada.\n",
    "- `tip`: valor da gorjeta dada ao motorista.\n",
    "\n",
    "Nosso objetivo é verificar se há algum horário melhor para um taxista que queira maximizar o valor das gorjetas que recebe.\n",
    "\n",
    "### Exercício de hoje - Parte 1\n",
    "\n",
    "Utilize a função `sns.lineplot()` para criar um gráfico de linha que exiba a gorjeta média a partir da hora de início da viagem, e remova também a barra de erro com o argumento `errorbar=None`.\n",
    "\n",
    "Após escrever a linha de código de sua resposta, execute a célula para mostrar o gráfico a partir da base `taxis`.\n",
    "\n",
    "**Importante: antes de executar o código da sua resposta, não deixe de executar a célula de código que está no início deste caderno, que importa as bibliotecas e carrega os dados.**"
   ]
  },
  {
   "cell_type": "code",
   "execution_count": null,
   "metadata": {},
   "outputs": [],
   "source": [
    "# Escreva sua resposta abaixo\n"
   ]
  },
  {
   "cell_type": "markdown",
   "metadata": {},
   "source": [
    "### Exercício de hoje - Parte 2\n",
    "\n",
    "Agora você produzir o mesmo gráfico, mas deve customizá-lo:\n",
    "- adicione título ao gráfico,\n",
    "- adicione e rótulos nos eixos, e\n",
    "- aumente o tamanho das dimensões do gráfico usando a função: `plt.subplots()` (uma sugestão é usar: `figsize=(12,6)`)\n"
   ]
  },
  {
   "cell_type": "code",
   "execution_count": null,
   "metadata": {},
   "outputs": [],
   "source": [
    "# Continue o código abaixo\n",
    "fig, ax = plt.subplots(figsize=(_, _))\n",
    "\n"
   ]
  }
 ],
 "metadata": {
  "kernelspec": {
   "display_name": "base",
   "language": "python",
   "name": "python3"
  },
  "language_info": {
   "codemirror_mode": {
    "name": "ipython",
    "version": 3
   },
   "file_extension": ".py",
   "mimetype": "text/x-python",
   "name": "python",
   "nbconvert_exporter": "python",
   "pygments_lexer": "ipython3",
   "version": "3.10.13"
  }
 },
 "nbformat": 4,
 "nbformat_minor": 2
}
