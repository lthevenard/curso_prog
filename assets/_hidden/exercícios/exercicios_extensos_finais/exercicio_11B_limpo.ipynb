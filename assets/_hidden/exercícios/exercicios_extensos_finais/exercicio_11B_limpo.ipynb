{
 "cells": [
  {
   "cell_type": "markdown",
   "metadata": {},
   "source": [
    "# Turma B\n",
    "\n",
    "## Avaliação Continuada - Aula 11\n",
    "\n",
    "Nesta aula, vamos explorar de forma mais livre uma nova base de dados. Os exercícios deverão ser realizados ao longo de toda a aula, em grupos de 5, e as perguntas envolverão problemas mais abertos, que exigirão raciocínio e compreensão do conteúdo do curso para serem realizados."
   ]
  },
  {
   "cell_type": "markdown",
   "metadata": {},
   "source": [
    "### Questão 1\n",
    "\n",
    "Carregue as três bibliotecas utilizadas no curso para gerar visualizações: a biblioteca `pandas`, a biblioteca `seaborn` e o módulo `pyplot` da biblioteca `matplotlib`. Você deve utilizar os `alias` corretos ao carregar cada biblioteca."
   ]
  },
  {
   "cell_type": "code",
   "execution_count": 1,
   "metadata": {},
   "outputs": [],
   "source": [
    "# Sua resposta aqui\n"
   ]
  },
  {
   "cell_type": "markdown",
   "metadata": {},
   "source": [
    "### Questão 2\n",
    "\n",
    "Utilize a função `load_dataset` da biblioteca `seaborn` para carregar uma nova base de dados, chamada `\"penguins\"`. Não deixe de criar uma variável para salvar a base de dados carregada. Em seguida utilize o método `head` na base de dados para visualizar as primeiras linhas dos dados.\n",
    "\n",
    "**Dica**: Em todos os exercícios de avaliação continuada anteriores utilizamos essa mesma função para carregar a base de dados `\"taxis\"`."
   ]
  },
  {
   "cell_type": "code",
   "execution_count": 2,
   "metadata": {},
   "outputs": [],
   "source": [
    "# Sua resposta aqui\n"
   ]
  },
  {
   "cell_type": "markdown",
   "metadata": {},
   "source": [
    "### Questão 3\n",
    "\n",
    "Utilize o método `info` para obter informações sobre as colunas da base de dados."
   ]
  },
  {
   "cell_type": "code",
   "execution_count": 3,
   "metadata": {},
   "outputs": [],
   "source": [
    "# Sua resposta aqui\n"
   ]
  },
  {
   "cell_type": "markdown",
   "metadata": {},
   "source": [
    "### Questão 4\n",
    "\n",
    "Há alguma coluna com células vazias (não preenchidas) nessa base? Se houver, informe quais."
   ]
  },
  {
   "cell_type": "markdown",
   "metadata": {},
   "source": [
    "#### Resposta\n",
    "\n",
    "..."
   ]
  },
  {
   "cell_type": "markdown",
   "metadata": {},
   "source": [
    "### Questão 5\n",
    "\n",
    "Acesse [aqui](https://allisonhorst.github.io/palmerpenguins/reference/penguins.html) as informações sobre a base \"penguins\".\n",
    "\n",
    "Em seguida, você deverá completar a lista de colunas abaixo, com as descrições de cada coluna e com uma classificação do tipo de variável utilizada. Você pode utilizar as descrições em inglês, retiradas direto do site da base de dados, não é necessário traduzí-las para português. As opções de tipo de variável que você deve considerar são as seguintes:\n",
    "\n",
    "- Variável **numérica**,\n",
    "- Variável **categórica não ordenada**,\n",
    "- Variável **categórica ordenada**,\n",
    "- Variável **booleana/dummy**,\n",
    "- Variável **temporal** (incluindo dia, ano, mes, hora, minuto ou qualquer outro lapso temporal).\n",
    "\n",
    "A primeira coluna já foi classificada abaixo. Continue a lista para as demais colunas."
   ]
  },
  {
   "cell_type": "markdown",
   "metadata": {},
   "source": [
    "#### Resposta\n",
    "\n",
    "- `species`: \n",
    "  - **descrição**: a factor denoting penguin species (Adélie, Chinstrap and Gentoo).\n",
    "  - **tipo**: variável categórica não ordenada.\n",
    "- `island`: \n",
    "  - **descrição**:\n",
    "  - **tipo**:\n",
    "- `bill_length_mm`: \n",
    "  - **descrição**:\n",
    "  - **tipo**:\n",
    "- `bill_depth_mm`:\n",
    "  - **descrição**:\n",
    "  - **tipo**:\n",
    "- `flipper_length_mm`: \n",
    "  - **descrição**:\n",
    "  - **tipo**:\n",
    "- `body_mass_g`: \n",
    "  - **descrição**:\n",
    "  - **tipo**:\n",
    "- `sex`: \n",
    "  - **descrição**:\n",
    "  - **tipo**:"
   ]
  },
  {
   "cell_type": "markdown",
   "metadata": {},
   "source": [
    "### Questão 6\n",
    "\n",
    "Utilize o método `value_counts` nas respectivas colunas para realizar contagens das frequências das espécies de penguin (coluna `\"species\"`), das ilhas nas quais os penguins estavam (coluna `\"island\"`) e do sexo dos penguins (coluna `\"sex\"`) nas observações em nossa base. Em seguida, responda: oara cada uma dessas três variáveis, qual é a categoria mais frequente?"
   ]
  },
  {
   "cell_type": "code",
   "execution_count": 4,
   "metadata": {},
   "outputs": [],
   "source": [
    "# Sua resposta aqui - contagens da coluna 'species'\n",
    "\n"
   ]
  },
  {
   "cell_type": "code",
   "execution_count": 5,
   "metadata": {},
   "outputs": [],
   "source": [
    "# Sua resposta aqui - contagens da coluna 'island'\n"
   ]
  },
  {
   "cell_type": "code",
   "execution_count": 6,
   "metadata": {},
   "outputs": [],
   "source": [
    "# Sua resposta aqui - contagens da coluna 'sex'\n"
   ]
  },
  {
   "cell_type": "markdown",
   "metadata": {},
   "source": [
    "#### Resposta\n",
    "\n",
    "..."
   ]
  },
  {
   "cell_type": "markdown",
   "metadata": {},
   "source": [
    "### Questão 7\n",
    "\n",
    "Produza um gráfico de pontos com uma linha de tendência (regressão), relacionando o tamanho das asas dos penguins em nossa base (coluna `\"flipper_length_mm\"`) com o peso desses penguins (coluna `\"body_mass_g\"`). Ao escolher quais variáveis representar em quais eixos, siga a convenção que estudamos em sala, supondo que o tamanho da asa é a variável explicativa e o tamanho do bico é a variável de resposta.\n",
    "\n",
    "Adicione as seguintes customizações ao seu gráfico:\n",
    "\n",
    "- modifique o tipo de ponto utilizado na representação atribuindo o valor `\".\"` ao argumento `marker`,\n",
    "- remova a sombra que representa o intervalo de confiança da regressão, atribuindo o valor `\"none\"` ao argumento `ci`,\n",
    "- modifique a cor da linha de tendência, atribuindo um dicionário `{\"color\": \"red\"}` ao argumento `line_kws`.\n",
    "\n",
    "Após visualizar o gráfico, responda: qual relação os dados evidenciam, entre o tamanho das asas dos penguins e seu peso?"
   ]
  },
  {
   "cell_type": "code",
   "execution_count": 7,
   "metadata": {},
   "outputs": [],
   "source": [
    "# Sua resposta aqui\n"
   ]
  },
  {
   "cell_type": "markdown",
   "metadata": {},
   "source": [
    "#### Resposta (Qual relação os dados evidenciam, entre o tamanho das asas dos penguins e seu peso?)\n",
    "\n",
    "Os dados mostram que quanto maiores são as asas dos penguins, mais pesados eles tendem a ser, e vice-versa. "
   ]
  },
  {
   "cell_type": "markdown",
   "metadata": {},
   "source": [
    "### Questão 8\n",
    "\n",
    "Vamos continuar nossa análise verificando a relação entre o tamanho das asas e dos bicos dos penguins de cada espécie. Queremos cruzar três variáveis, duas numéricas e uma categórica, para verificar como o tamanho das asas dos penguins se relacionam com o tamnaho do bico nas diferentes espécies que compõem a base.\n",
    "\n",
    "Crie um novo gráfico de pontos, dessa vez utilizando a função `'scatterplot'`. Novamente vamos colocar o tamanho da asa dos penguins (coluna `\"flipper_length_mm\"`) como variável explicativa, mas a nossa variável de resposta agora será o tamanho do bico dos penguins (coluna `\"flipper_length_mm\"`). Em seguida, atribua a variável `\"species\"` ao argumento `hue` da função `scatterplot` para representar cada espécie como uma cor distinta.\n",
    "\n",
    "Por fim, atribua a lista `[\"x\", \"o\", \"s\"]` ao argumento `markers` para que os pontos de cada espécie também tenham estilos diferentes, além de cores distintas.\n"
   ]
  },
  {
   "cell_type": "code",
   "execution_count": 8,
   "metadata": {},
   "outputs": [],
   "source": [
    "# Sua resposta aqui\n"
   ]
  },
  {
   "cell_type": "markdown",
   "metadata": {},
   "source": [
    "### Questão 9\n",
    "\n",
    "Note que há um ponto nesse gráfico que é um claro outlier, um penguin que tem um tamanho relativamente pequeno de asas (cerca de 180 mmm), mas com um bico muito grande em relação aos demais de sua espécie (cerca de 58 mm). Vamos terminar de customizar o nosso gráfico e, conjuntamente, vamos aproveitar para adicionar uma anotação indicando a presença desse outlier.\n",
    "\n",
    "Reproduza o mesmo gráfico da questão anterior, no entanto utilize a função `plt.subplots()` para criar manualmente a figura e os eixos do gráfico. Por meio do argumento `figsize`, crie um gráfico com a proporção 10 x 6.\n",
    "\n",
    "Em seguida, utilize a função `plt.text()` para anotar no gráfico a palavra `\"<-- Outlier\"`. Escreva isso em vermelho, e posicione o texto atribuindo os valores `181.5` e `57.8` aos eixos x e y, respectivamente.\n",
    "\n",
    "Por fim, modifique os rótulos do gráfico. Os eixos devem ter os rótulos `\"Tamanho da Asa (Milímetros)\"` e `\"Tamanho do Bico (Milímetros)\"`, evidenciando cada variável representada. O título da legenda também deve ser colocado em português, deve dizer: `\"Espécie\"`. Por fim, adicione o seguinte título ao gráfico: `\"Relação entre o tamanho da asa e do bico nas três espécies de penguins estudadas\"`"
   ]
  },
  {
   "cell_type": "code",
   "execution_count": 9,
   "metadata": {},
   "outputs": [],
   "source": [
    "# Sua resposta aqui\n"
   ]
  },
  {
   "cell_type": "markdown",
   "metadata": {},
   "source": [
    "### Questão 10\n",
    "\n",
    "Queremos agora comparar o peso (coluna `\"body_mass_g\"`) de penguins do sexo masculino e feminino (coluna `\"sex\"`) de cada espécie (coluna `\"species\"`). Nosso objetivo é criar um gráfico do tipo `boxplot`, no qual o peso será representado no eixo y. Como queremos criar um gráfico que facilite a comparação entre os sexos, dentro de cada espécie, vamos representar as espécies no eixo `x` e o sexo como uma cor (`hue`).\n",
    "\n",
    "Para começar o código, utilize novamente a função `plt.subplots()` para criar manualmente a figura e os eixos do gráfico. Por meio do argumento `figsize`, determine que o seu gráfico terá proporção 10 x 8. criar.\n",
    "\n",
    "Em seguida, crie uma palheta, por meio de um dicionário, atribuindo a cor `\"steelblue\"` à categoria `\"Male\"` e a cor `\"coral\"` à categoria `\"Female\"`.\n",
    "\n",
    "Utilize então a função `boxplot` para criar o gráfico, conforme descrito acima, utilizando o dicionário como palheta de cores.\n",
    "\n",
    "Por fim, novamente modifique novamente os rótulos do gráfico. Os eixos devem ter os rótulos `\"Peso do Penguin (Gramas)\"` e `\"Espécie\"`, evidenciando cada variável representada. O título da legenda também deve ser colocado em português, deve dizer: `\"Sexo\"`. Por fim, adicione o seguinte título ao gráfico: `\"Diferenças de peso entre indivíduos do sexo masculino e feminino em cada espécie\"`"
   ]
  },
  {
   "cell_type": "code",
   "execution_count": 10,
   "metadata": {},
   "outputs": [],
   "source": [
    "# Sua resposta aqui\n"
   ]
  }
 ],
 "metadata": {
  "kernelspec": {
   "display_name": "base",
   "language": "python",
   "name": "python3"
  },
  "language_info": {
   "codemirror_mode": {
    "name": "ipython",
    "version": 3
   },
   "file_extension": ".py",
   "mimetype": "text/x-python",
   "name": "python",
   "nbconvert_exporter": "python",
   "pygments_lexer": "ipython3",
   "version": "3.12.4"
  }
 },
 "nbformat": 4,
 "nbformat_minor": 2
}
