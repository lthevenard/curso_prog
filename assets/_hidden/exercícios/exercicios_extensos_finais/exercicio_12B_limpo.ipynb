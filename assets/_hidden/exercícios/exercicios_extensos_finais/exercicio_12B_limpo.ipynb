{
 "cells": [
  {
   "cell_type": "markdown",
   "metadata": {},
   "source": [
    "# Turma B\n",
    "\n",
    "## Avaliação Continuada - Aula 11\n",
    "\n",
    "Nesta aula, vamos explorar de forma mais livre uma nova base de dados. Os exercícios deverão ser realizados ao longo de toda a aula, em grupos de 5, e as perguntas envolverão problemas mais abertos, que exigirão raciocínio e compreensão do conteúdo do curso para serem realizados."
   ]
  },
  {
   "cell_type": "markdown",
   "metadata": {},
   "source": [
    "### Questão 1\n",
    "\n",
    "Carregue as três bibliotecas utilizadas no curso para gerar visualizações: a biblioteca `pandas`, a biblioteca `seaborn` e o módulo `pyplot` da biblioteca `matplotlib`. Você deve utilizar os `alias` corretos ao carregar cada biblioteca."
   ]
  },
  {
   "cell_type": "code",
   "execution_count": 2,
   "metadata": {},
   "outputs": [],
   "source": [
    "# Sua resposta aqui\n"
   ]
  },
  {
   "cell_type": "markdown",
   "metadata": {},
   "source": [
    "### Questão 2\n",
    "\n",
    "Utilize a função `load_dataset` da biblioteca `seaborn` para carregar uma nova base de dados, chamada `\"diamonds\"`. Não deixe de criar uma variável para salvar a base de dados carregada. Em seguida utilize o método `head` na base de dados para visualizar as primeiras linhas dos dados.\n",
    "\n",
    "**Dica**: Em todos os exercícios de avaliação continuada anteriores utilizamos essa mesma função para carregar a base de dados `\"titanic\"`."
   ]
  },
  {
   "cell_type": "code",
   "execution_count": null,
   "metadata": {},
   "outputs": [],
   "source": [
    "# Sua resposta aqui\n"
   ]
  },
  {
   "cell_type": "markdown",
   "metadata": {},
   "source": [
    "### Questão 3\n",
    "\n",
    "Utilize o método `info` para obter informações sobre as colunas da base de dados."
   ]
  },
  {
   "cell_type": "code",
   "execution_count": null,
   "metadata": {},
   "outputs": [],
   "source": [
    "# Sua resposta aqui\n"
   ]
  },
  {
   "cell_type": "markdown",
   "metadata": {},
   "source": [
    "### Questão 4\n",
    "\n",
    "Há alguma coluna com células vazias (não preenchidas) nessa base? Se houver, informe quais."
   ]
  },
  {
   "cell_type": "markdown",
   "metadata": {},
   "source": [
    "#### Resposta\n",
    "\n",
    "..."
   ]
  },
  {
   "cell_type": "markdown",
   "metadata": {},
   "source": [
    "### Questão 5\n",
    "\n",
    "Acesse [aqui](https://github.com/mwaskom/seaborn-data) o repositório das bases de dados disponibilizadas pela biblioteca `seaborn`. Lá você encontrará o link para a origem da base de dados que estamos utilizando neste exercício (`\"diamonds\"`). Acesse esse link e leia com atenção a descrição de cada uma das colunas da base.\n",
    "\n",
    "Em seguida, você deverá completar a lista de colunas abaixo, com as descrições de cada coluna e com uma classificação do tipo de variável utilizada. Você pode utilizar as descrições em inglês, retiradas direto do site da base de dados, não é necessário traduzí-las para português. As opções de tipo de variável que você deve considerar são as seguintes:\n",
    "\n",
    "- Variável **numérica**,\n",
    "- Variável **categórica não ordenada**,\n",
    "- Variável **categórica ordenada**,\n",
    "- Variável **booleana/dummy**,\n",
    "- Variável **temporal** (incluindo dia, ano, mes, hora, minuto ou qualquer outro lapso temporal).\n",
    "\n",
    "A primeira coluna já foi classificada abaixo. Continue a lista para as demais colunas."
   ]
  },
  {
   "cell_type": "markdown",
   "metadata": {},
   "source": [
    "#### Resposta\n",
    "\n",
    "- `carat`: \n",
    "  - **descrição**: weight of the diamond (0.2--5.01).\n",
    "  - **tipo**: variável numérica.\n",
    "- `cut`: \n",
    "  - **descrição**:\n",
    "  - **tipo**:\n",
    "- `color`: \n",
    "  - **descrição**:\n",
    "  - **tipo**:\n",
    "- `clarity`:\n",
    "  - **descrição**:\n",
    "  - **tipo**:\n",
    "- `depth`: \n",
    "  - **descrição**:\n",
    "  - **tipo**:\n",
    "- `table`: \n",
    "  - **descrição**:\n",
    "  - **tipo**:\n",
    "- `price`: \n",
    "  - **descrição**:\n",
    "  - **tipo**:\n",
    "- `x`:\n",
    "  - **descrição**:\n",
    "  - **tipo**:\n",
    "- `y`: \n",
    "  - **descrição**:\n",
    "  - **tipo**:\n",
    "- `z`: \n",
    "  - **descrição**:\n",
    "  - **tipo**:"
   ]
  },
  {
   "cell_type": "markdown",
   "metadata": {},
   "source": [
    "### Questão 6\n",
    "\n",
    "Utilize o método `value_counts` nas respectivas colunas para realizar contagens das frequências dos tipos de corte (coluna `\"cut\"`), de cor (coluna `\"color\"`) e de claridade (coluna `\"clarity\"`) nas observações em nossa base. Em seguida, responda: oara cada uma dessas três variáveis, qual é a categoria mais frequente?"
   ]
  },
  {
   "cell_type": "code",
   "execution_count": null,
   "metadata": {},
   "outputs": [],
   "source": [
    "# Sua resposta aqui\n"
   ]
  },
  {
   "cell_type": "code",
   "execution_count": null,
   "metadata": {},
   "outputs": [],
   "source": [
    "# Sua resposta aqui\n"
   ]
  },
  {
   "cell_type": "code",
   "execution_count": null,
   "metadata": {},
   "outputs": [],
   "source": [
    "# Sua resposta aqui\n"
   ]
  },
  {
   "cell_type": "markdown",
   "metadata": {},
   "source": [
    "#### Resposta\n",
    "\n",
    "..."
   ]
  },
  {
   "cell_type": "markdown",
   "metadata": {},
   "source": [
    "### Questão 7\n",
    "\n",
    "Nesta nossa análise da base `diamonds`, vamos nos concentrar apenas em um subgrupo específico dos diamantes: os que tem um nível mediano de opacidade (claridade `\"VS1\"`), mas com maior tamanho (comprimento acima de 6 milímetros). Para isso vamos começar filtrando nossa base de dados inicial, salvando o resultado em uma base menor:\n",
    "\n",
    "- Filtre a base de dados para obter apenas os casos com o nível de claridade desejado (linhas em que o valor da coluna `\"clarity\"` é `\"VS1\"`).\n",
    "- Agora aplique um novo filtro à base que já havia sido filtrada anteriormente, para selecionar, dentre os casos de de claridade `\"VS1\"`, aqueles com mais de 6 milímetros de comprimento (linhas em que o valor da coluna `\"x\"` é maior que `6`).\n",
    "- Aplique o método `head` na base obtida ao final de ambos os filtros, para verificar se os resultados obtidos de fato estão incluindo apenas casos com claridade `\"VS1\"` e `\"x\"` superior a 6."
   ]
  },
  {
   "cell_type": "code",
   "execution_count": null,
   "metadata": {},
   "outputs": [],
   "source": [
    "# Sua resposta aqui\n"
   ]
  },
  {
   "cell_type": "markdown",
   "metadata": {},
   "source": [
    "### Questão 8\n",
    "\n",
    "Vamos agora utilizar nossa base de dados filtrada para gerar o primeiro gráfico. Queremos, inicialmente, utilizar um gráfico de pontos com regressão (*regplot*) para verificar o efeito do comprimento dos diamentes (coluna `\"x\"`) sobre o seu preço (coluna `\"price\"`). Ao escolher quais variáveis representar em quais eixos, siga a convenção que estudamos em sala, supondo que o comprimento do diamente é a variável explicativa e o preço é a variável de resposta.\n",
    "\n",
    "Adicione as seguintes customizações ao seu gráfico:\n",
    "- modifique o tipo de ponto utilizado na representação atribuindo o valor `\".\"` ao argumento `marker`,\n",
    "- remova a \n",
    "- aumente a transparência dos pontos atribuindo o dicionário `{\"alpha\": 0.4}` ao argumento `scatter_kws`, e\n",
    "- altere a cor e a largura da linha de regressão atribuindo o dicionário `{\"color\": \"navy\", 'linewidth': 2}` ao argumento `line_kws`."
   ]
  },
  {
   "cell_type": "code",
   "execution_count": null,
   "metadata": {},
   "outputs": [],
   "source": [
    "# Sua resposta aqui\n"
   ]
  },
  {
   "cell_type": "markdown",
   "metadata": {},
   "source": [
    "### Questão 9\n",
    "\n",
    "O gráfico anterior mostrou uma relação positiva entre o comprimento dos diamantes e seu peso. Queremos agora verificar como, nessa mesma relação, o brilho da cor de um diamante pode influenciar o preço. Para isso, vamos utilizar um gráfico de pontos de dispersão (*scatterplot*) e atribuir cores diferentes para os diferentes níveis de brilho/coloração (coluna `\"color\"`), em ordem. Com isso, vamos poder identificar como a qualidade da cor afeta o preço dos diamantes, dado um mesmo nível de claridade e de comprimento.\n",
    "\n",
    "Ao contruir seu gráfico, siga as instruções a seguir:\n",
    "\n",
    "- Crie uma palheta de cores com sequencial utilizando a seguinte linha de código: `palheta_color = sns.color_palette(\"mako\", n_colors=7)`\n",
    "- Crie uma lista com as categorias de corte em ordem, do pior para o melhor nível de corte (a descrição da coluna `\"color\"` na sua resposta à Questão 4 deve fornecer a ordem apropriada dos 7 níveis distintos de corte existentes na base). Cuidado! Lembre-se que queremos listar as cores da pior para a melhor!\n",
    "- Crie o scatterplot passando as variáveis `\"x\"` e `\"price\"` para os eixos, e a variável `\"color\"` para o `hue`.\n",
    "- Passe a lista que você criou com as categorias de cor em ordem para o argumento `\"hue_order\"`.\n",
    "- Passe a palheta de cores que você criou para o argumento `\"palette\"`.\n",
    "- Atribua o valor `0.4` ao argumento `alpha` para manter a transparência dos pontos.\n",
    "- Modifique novamente o tipo de ponto utilizado na representação atribuindo o valor `\".\"` ao argumento `marker`, e\n",
    "- Remova o contorno dos pontos atibuindo o valor `\"none\"` ao argumento `edgecolor`."
   ]
  },
  {
   "cell_type": "code",
   "execution_count": null,
   "metadata": {},
   "outputs": [],
   "source": [
    "# Sua resposta aqui\n"
   ]
  },
  {
   "cell_type": "markdown",
   "metadata": {},
   "source": [
    "### Questão 10\n",
    "\n",
    "O gráfico evidencia que de fato a claridade tem um impacto importante no preço dos diamantes, já que os melhores níveis de claridade tendem a ser mais caros, para um mesmo corte (\"Ideal\") e em faixas equivales de número de quilates. No entanto, o gráfico mostra também que a partir da faixa dos 0.7 quilates, diamantes com alta claridade tornam-se mais raros e o impacto dessa variável no preço também parece aumentar.\n",
    "\n",
    "Vamos escrever essa informação em nosso gráfico. \n",
    "\n",
    "Reproduza o mesmo gráfico da questão anterior, no entanto utilize a função `plt.subplots()` para criar manualmente a figura e os eixos do gráfico. Por meio do argumento `figsize`, crie um gráfico com a proporção 10 x 6.\n",
    "\n",
    "Em seguida, utilize a função `plt.text()` para anotar no gráfico o seguinte texto: \n",
    "\n",
    "```\"A partir de 0.7 quilates,\\ndiamantes com corte ideal\\ne alta claridade são menos\\ncomuns e mais caros.\"```\n",
    "\n",
    "Escreva o referido texto em cinza, e posicione o texto atribuindo os valores `0.7` e `8000` aos eixos x e y, respectivamente.\n",
    "\n",
    "Por fim, modifique os rótulos do gráfico. Os eixos devem ter os rótulos `\"Quilates\"` e `\"Preço (US$)\"`, evidenciando a variável representada. O título da legenda também deve ser colocado em português, deve dizer: `\"Claridade\"`. Por fim, adicione o seguinte título ao gráfico: `\"Preço dos diamantes com corte 'ideal' com menos de 1 quilate, por nível de claridade\"`"
   ]
  },
  {
   "cell_type": "code",
   "execution_count": null,
   "metadata": {},
   "outputs": [],
   "source": [
    "# Sua resposta aqui\n"
   ]
  }
 ],
 "metadata": {
  "kernelspec": {
   "display_name": "base",
   "language": "python",
   "name": "python3"
  },
  "language_info": {
   "codemirror_mode": {
    "name": "ipython",
    "version": 3
   },
   "file_extension": ".py",
   "mimetype": "text/x-python",
   "name": "python",
   "nbconvert_exporter": "python",
   "pygments_lexer": "ipython3",
   "version": "3.12.4"
  }
 },
 "nbformat": 4,
 "nbformat_minor": 2
}
