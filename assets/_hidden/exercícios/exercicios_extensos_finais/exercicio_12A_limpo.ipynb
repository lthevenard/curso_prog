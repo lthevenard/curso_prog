{
 "cells": [
  {
   "cell_type": "markdown",
   "metadata": {},
   "source": [
    "# Turma A\n",
    "\n",
    "## Avaliação Continuada - Aula 12\n",
    "\n",
    "Nesta aula, vamos explorar de forma mais livre uma nova base de dados. Os exercícios deverão ser realizados ao longo de toda a aula, em grupos de 5, e as perguntas envolverão problemas mais abertos, que exigirão raciocínio e compreensão do conteúdo do curso para serem realizados."
   ]
  },
  {
   "cell_type": "markdown",
   "metadata": {},
   "source": [
    "### Questão 1\n",
    "\n",
    "Carregue as três bibliotecas utilizadas no curso para gerar visualizações: a biblioteca `pandas`, a biblioteca `seaborn` e o módulo `pyplot` da biblioteca `matplotlib`. Você deve utilizar os `alias` corretos ao carregar cada biblioteca."
   ]
  },
  {
   "cell_type": "code",
   "execution_count": 2,
   "metadata": {},
   "outputs": [],
   "source": [
    "# Sua resposta aqui\n"
   ]
  },
  {
   "cell_type": "markdown",
   "metadata": {},
   "source": [
    "### Questão 2\n",
    "\n",
    "Utilize a função `load_dataset` da biblioteca `seaborn` para carregar uma nova base de dados, chamada `\"penguins\"`. Não deixe de criar uma variável para salvar a base de dados carregada. Em seguida utilize o método `head` na base de dados para visualizar as primeiras linhas dos dados.\n",
    "\n",
    "**Dica**: Em todos os exercícios de avaliação continuada anteriores utilizamos essa mesma função para carregar a base de dados `\"taxis\"`."
   ]
  },
  {
   "cell_type": "code",
   "execution_count": null,
   "metadata": {},
   "outputs": [],
   "source": [
    "# Sua resposta aqui\n"
   ]
  },
  {
   "cell_type": "markdown",
   "metadata": {},
   "source": [
    "### Questão 3\n",
    "\n",
    "Utilize o método `info` para obter informações sobre as colunas da base de dados."
   ]
  },
  {
   "cell_type": "code",
   "execution_count": null,
   "metadata": {},
   "outputs": [],
   "source": [
    "# Sua resposta aqui\n"
   ]
  },
  {
   "cell_type": "markdown",
   "metadata": {},
   "source": [
    "### Questão 4\n",
    "\n",
    "Há alguma coluna com células vazias (não preenchidas) nessa base? Se houver, informe quais."
   ]
  },
  {
   "cell_type": "markdown",
   "metadata": {},
   "source": [
    "#### Resposta\n",
    "\n",
    "..."
   ]
  },
  {
   "cell_type": "markdown",
   "metadata": {},
   "source": [
    "### Questão 5\n",
    "\n",
    "Acesse [aqui](https://allisonhorst.github.io/palmerpenguins/reference/penguins.html) as informações sobre a base \"penguins\".\n",
    "\n",
    "Em seguida, você deverá completar a lista de colunas abaixo, com as descrições de cada coluna e com uma classificação do tipo de variável utilizada. Você pode utilizar as descrições em inglês, retiradas direto do site da base de dados, não é necessário traduzí-las para português. As opções de tipo de variável que você deve considerar são as seguintes:\n",
    "\n",
    "- Variável **numérica**,\n",
    "- Variável **categórica não ordenada**,\n",
    "- Variável **categórica ordenada**,\n",
    "- Variável **booleana/dummy**,\n",
    "- Variável **temporal** (incluindo dia, ano, mes, hora, minuto ou qualquer outro lapso temporal).\n",
    "\n",
    "A primeira coluna já foi classificada abaixo. Continue a lista para as demais colunas."
   ]
  },
  {
   "cell_type": "markdown",
   "metadata": {},
   "source": [
    "#### Resposta\n",
    "\n",
    "- `species`: \n",
    "  - **descrição**: a factor denoting penguin species (Adélie, Chinstrap and Gentoo).\n",
    "  - **tipo**: variável categórica não ordenada.\n",
    "- `island`: \n",
    "  - **descrição**:\n",
    "  - **tipo**:\n",
    "- `bill_length_mm`: \n",
    "  - **descrição**:\n",
    "  - **tipo**:\n",
    "- `bill_depth_mm`:\n",
    "  - **descrição**:\n",
    "  - **tipo**:\n",
    "- `flipper_length_mm`: \n",
    "  - **descrição**:\n",
    "  - **tipo**:\n",
    "- `body_mass_g`: \n",
    "  - **descrição**:\n",
    "  - **tipo**:\n",
    "- `sex`: \n",
    "  - **descrição**:\n",
    "  - **tipo**:"
   ]
  },
  {
   "cell_type": "markdown",
   "metadata": {},
   "source": [
    "### Questão 6\n",
    "\n",
    "Utilize o método `value_counts` nas respectivas colunas para realizar contagens das frequências das espécies de penguin (coluna `\"species\"`), das ilhas nas quais os penguins estavam (coluna `\"island\"`) e do sexo dos penguins (coluna `\"sex\"`) nas observações em nossa base. Em seguida, responda: oara cada uma dessas três variáveis, qual é a categoria mais frequente?"
   ]
  },
  {
   "cell_type": "code",
   "execution_count": null,
   "metadata": {},
   "outputs": [],
   "source": [
    "# Sua resposta aqui\n"
   ]
  },
  {
   "cell_type": "code",
   "execution_count": null,
   "metadata": {},
   "outputs": [],
   "source": [
    "# Sua resposta aqui\n"
   ]
  },
  {
   "cell_type": "code",
   "execution_count": null,
   "metadata": {},
   "outputs": [],
   "source": [
    "# Sua resposta aqui\n"
   ]
  },
  {
   "cell_type": "markdown",
   "metadata": {},
   "source": [
    "#### Resposta\n",
    "\n",
    "..."
   ]
  },
  {
   "cell_type": "markdown",
   "metadata": {},
   "source": [
    "### Questão 7\n",
    "\n",
    "Vamos começar nossa análise da base `penguins` analisando o tamanho das asas dos nossos penguins (coluna `\"flipper_length_mm\"`). Queremos comparar as asas dos penguins do sexo masculino e feminino (coluna `\"sex\"`), em cada espécie distinta (coluna `\"species\"`). \n",
    "\n",
    "Para isso, você deve criar um gráfico do tipo `boxplot`, no qual o tamanho da asa será representado no eixo y. Como queremos criar um gráfico que facilite a comparação entre os sexos, dentro de cada espécie, vamos representar as espécies no eixo `x` e o sexo como uma cor (`hue`).\n",
    "\n",
    "Para customizar nosso gráfico, crie uma palheta, por meio de um dicionário, atribuindo a cor `\"skyblue\"` à categoria `\"Male\"` e a cor `\"plum\"` à categoria `\"Female\"`."
   ]
  },
  {
   "cell_type": "code",
   "execution_count": null,
   "metadata": {},
   "outputs": [],
   "source": [
    "# Sua resposta aqui\n"
   ]
  },
  {
   "cell_type": "markdown",
   "metadata": {},
   "source": [
    "### Questão 8\n",
    "\n",
    "Após olharmos para as asas dos nossos penguins, vamos investigar os seus bicos. Temos duas variáveis mensurações distintas do bico dos penguins: o comprimento do bico (coluna `\"bill_length_mm\"`) e a profundidade do bico (coluna `\"bill_depth_mm\"`). Vamos verificar como elas se relacionam.\n",
    "\n",
    "Produza um gráfico de pontos com uma linha de regressão (*regplot*), relacionando o comprimento do bico dos penguins (coluna `\"bill_length_mm\"`) com a profundidade do bico (coluna `\"bill_depth_mm\"`). Ao escolher quais variáveis representar em quais eixos, siga a convenção que estudamos em sala, supondo que o comprimento do bico é a variável explicativa e a profundidade do bico é a variável de resposta.\n",
    "\n",
    "Adicione as seguintes customizações ao seu gráfico:\n",
    "\n",
    "- modifique o tipo de ponto utilizado na representação atribuindo o valor `\".\"` ao argumento `marker`,\n",
    "- remova a sombra que representa o intervalo de confiança da regressão, atribuindo o valor `\"none\"` ao argumento `ci`,\n",
    "- modifique a cor da linha de tendência, atribuindo um dicionário `{\"color\": \"red\"}` ao argumento `line_kws`.\n",
    "\n",
    "Após visualizar o gráfico, responda: qual relação os dados parecem evidenciar entre o comprimento e a profundidade dos bicos dos nossos penguins?"
   ]
  },
  {
   "cell_type": "code",
   "execution_count": null,
   "metadata": {},
   "outputs": [],
   "source": [
    "# Sua resposta aqui\n"
   ]
  },
  {
   "cell_type": "markdown",
   "metadata": {},
   "source": [
    "#### Resposta (Qual relação os dados evidenciam, entre o tamanho das asas dos penguins e seu peso?)\n",
    "\n",
    "Os dados parecem mostrar uma relação negativa, quanto maior o comprimento, menor tende a ser a profundidade dos bicos dos penguins na base."
   ]
  },
  {
   "cell_type": "markdown",
   "metadata": {},
   "source": [
    "### Questão 9\n",
    "\n",
    "O resultado do gráfico anterior é bastante surpreendente! Uma relação negativa entre as duas medidas do bico é curiosa. Mas vamos agora tentar separar as espécies de penguins na nossa base e verificar se essa relação negativa se mantém dentro de cada espécie. Para comparar regressões, vamos ter que utilizar um gráfico do tipo `lmplot`.\n",
    "\n",
    "Crie um novo gráfico de pontos, dessa vez utilizando a função `'lmplot'`. Novamente vamos colocar o comprimento do bico dos penguins (coluna `\"bill_length_mm\"`) como variável explicativa e a profundidade do bico (coluna `\"bill_depth_mm\"`) como variável de resposta. Mas agora vamos separar a regressão em grupos, representando cada espécie de penguin (coluna `\"species\"`) com uma cor distinta. Para tanto, basta atribuir a variável `\"species\"` ao argumento `hue` da função `lmplot`.\n",
    "\n",
    "Por fim, vamos adicionar algumas customizações ao  gráfico:\n",
    "- Configure a palheta de cores do gráfico, utilizando um dicionário, de forma a atribuir a cor `\"darkorange\"` à espécie `\"Adelie\"`, a cor `\"darkviolet\"` à espécie `\"Chinstrap\"` e a cor `\"teal\"` à espécie `\"Gentoo\"`.\n",
    "- Atribua a lista `[\"v\", \"o\", \"s\"]` ao argumento `markers` para que os pontos de cada espécie também tenham estilos diferentes, além de cores distintas.\n",
    "- Por fim, remova as sombras que representam os intervalos de confiança das regressões, atribuindo o valor `None` ao argumento `ci`.\n"
   ]
  },
  {
   "cell_type": "code",
   "execution_count": null,
   "metadata": {},
   "outputs": [],
   "source": [
    "# Sua resposta aqui\n"
   ]
  },
  {
   "cell_type": "markdown",
   "metadata": {},
   "source": [
    "### Questão 10\n",
    "\n",
    "Vamos agora produzir nosso último gráfico: uma comparação das distribuições de valores dos peso dos penguins, por sexo e por espécie.\n",
    "\n",
    "Nosso objetivo é criar um gráfico do tipo `boxplot`, no qual o peso será representado no eixo y. Como queremos criar um gráfico que facilite a comparação entre as espécies, dentro de cada sexo, vamos representar as categorias de sexo no eixo `x` e as espécies como cores distintas (`hue`).\n",
    "\n",
    "Para começar o código, utilize novamente a função `plt.subplots()` para criar manualmente a figura e os eixos do gráfico. Por meio do argumento `figsize`, determine que o seu gráfico terá proporção 10 x 6.\n",
    "\n",
    "Utilize então a função `boxplot` para criar o gráfico, conforme descrito acima. Utilize, novamente, a palheta de cores criada por meio de um dicionário, de forma a atribuir a cor `\"darkorange\"` à espécie `\"Adelie\"`, a cor `\"darkviolet\"` à espécie `\"Chinstrap\"` e a cor `\"teal\"` à espécie `\"Gentoo\"`.\n",
    "\n",
    "Em seguida, utilize a função `plt.text()` para escrever a seguinte frase no gráfico: `\"Os Gentoos do sexo\\nmasculino são os\\npenguins mais pesados.\"`. Escreva isso na mesma cor atribuída à espécie `\"Gentoo\"` (`\"teal\"`), e posicione o texto atribuindo os valores `0.48` e `5700` aos eixos x e y, respectivamente.\n",
    "\n",
    "Modifique os rótulos do gráfico. Os eixos devem ter os rótulos `\"Sexo\"` e `\"Peso (Gramas)\"`, evidenciando cada variável representada. O título da legenda também deve ser colocado em português, deve dizer: `\"Espécie\"`.\n",
    "\n",
    "Por fim, adicione o seguinte título ao gráfico: `\"Pesos dos penguims por sexo e por espécie\"`."
   ]
  },
  {
   "cell_type": "code",
   "execution_count": null,
   "metadata": {},
   "outputs": [],
   "source": [
    "# Sua resposta aqui\n"
   ]
  }
 ],
 "metadata": {
  "kernelspec": {
   "display_name": "base",
   "language": "python",
   "name": "python3"
  },
  "language_info": {
   "codemirror_mode": {
    "name": "ipython",
    "version": 3
   },
   "file_extension": ".py",
   "mimetype": "text/x-python",
   "name": "python",
   "nbconvert_exporter": "python",
   "pygments_lexer": "ipython3",
   "version": "3.12.4"
  }
 },
 "nbformat": 4,
 "nbformat_minor": 2
}
