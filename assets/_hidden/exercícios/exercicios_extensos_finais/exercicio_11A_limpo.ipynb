{
 "cells": [
  {
   "cell_type": "markdown",
   "metadata": {},
   "source": [
    "# Turma A\n",
    "\n",
    "## Avaliação Continuada - Aula 11\n",
    "\n",
    "Nesta aula, vamos explorar de forma mais livre uma nova base de dados. Os exercícios deverão ser realizados ao longo de toda a aula, em grupos de 5, e as perguntas envolverão problemas mais abertos, que exigirão raciocínio e compreensão do conteúdo do curso para serem realizados."
   ]
  },
  {
   "cell_type": "markdown",
   "metadata": {},
   "source": [
    "### Questão 1\n",
    "\n",
    "Carregue as três bibliotecas utilizadas no curso para gerar visualizações: a biblioteca `pandas`, a biblioteca `seaborn` e o módulo `pyplot` da biblioteca `matplotlib`. Você deve utilizar os `alias` corretos ao carregar cada biblioteca."
   ]
  },
  {
   "cell_type": "code",
   "execution_count": null,
   "metadata": {},
   "outputs": [],
   "source": [
    "# Sua resposta aqui\n"
   ]
  },
  {
   "cell_type": "markdown",
   "metadata": {},
   "source": [
    "### Questão 2\n",
    "\n",
    "Utilize a função `load_dataset` da biblioteca `seaborn` para carregar uma nova base de dados, chamada `\"diamonds\"`. Não deixe de criar uma variável para salvar a base de dados carregada. Em seguida utilize o método `head` na base de dados para visualizar as primeiras linhas dos dados.\n",
    "\n",
    "**Dica**: Em todos os exercícios de avaliação continuada anteriores utilizamos essa mesma função para carregar a base de dados `\"taxis\"`."
   ]
  },
  {
   "cell_type": "code",
   "execution_count": null,
   "metadata": {},
   "outputs": [],
   "source": [
    "# Sua resposta aqui\n"
   ]
  },
  {
   "cell_type": "markdown",
   "metadata": {},
   "source": [
    "### Questão 3\n",
    "\n",
    "Utilize o método `info` para obter informações sobre as colunas da base de dados."
   ]
  },
  {
   "cell_type": "code",
   "execution_count": null,
   "metadata": {},
   "outputs": [],
   "source": [
    "# Sua resposta aqui\n"
   ]
  },
  {
   "cell_type": "markdown",
   "metadata": {},
   "source": [
    "### Questão 4\n",
    "\n",
    "Há alguma coluna com células vazias (não preenchidas) nessa base? Se houver, informe quais."
   ]
  },
  {
   "cell_type": "markdown",
   "metadata": {},
   "source": [
    "#### Resposta\n",
    "\n",
    "..."
   ]
  },
  {
   "cell_type": "markdown",
   "metadata": {},
   "source": [
    "### Questão 5\n",
    "\n",
    "Acesse [aqui](https://github.com/mwaskom/seaborn-data) o repositório das bases de dados disponibilizadas pela biblioteca `seaborn`. Lá você encontrará o link para a origem da base de dados que estamos utilizando neste exercício (`\"diamonds\"`). Acesse esse link e leia com atenção a descrição de cada uma das colunas da base.\n",
    "\n",
    "Em seguida, você deverá completar a lista de colunas abaixo, com as descrições de cada coluna e com uma classificação do tipo de variável utilizada. Você pode utilizar as descrições em inglês, retiradas direto do site da base de dados, não é necessário traduzí-las para português. As opções de tipo de variável que você deve considerar são as seguintes:\n",
    "\n",
    "- Variável **numérica**,\n",
    "- Variável **categórica não ordenada**,\n",
    "- Variável **categórica ordenada**,\n",
    "- Variável **booleana/dummy**,\n",
    "- Variável **temporal** (incluindo dia, ano, mes, hora, minuto ou qualquer outro lapso temporal).\n",
    "\n",
    "A primeira coluna já foi classificada abaixo. Continue a lista para as demais colunas."
   ]
  },
  {
   "cell_type": "markdown",
   "metadata": {},
   "source": [
    "#### Resposta\n",
    "\n",
    "- `carat`: \n",
    "  - **descrição**: weight of the diamond (0.2--5.01).\n",
    "  - **tipo**: variável numérica.\n",
    "- `cut`: \n",
    "  - **descrição**:\n",
    "  - **tipo**:\n",
    "- `color`: \n",
    "  - **descrição**:\n",
    "  - **tipo**:\n",
    "- `clarity`: \n",
    "  - **descrição**:\n",
    "  - **tipo**:\n",
    "- `depth`: \n",
    "  - **descrição**:\n",
    "  - **tipo**:\n",
    "- `table`: \n",
    "  - **descrição**:\n",
    "  - **tipo**:\n",
    "- `price`: \n",
    "  - **descrição**:\n",
    "  - **tipo**:\n",
    "- `x`: \n",
    "  - **descrição**:\n",
    "  - **tipo**:\n",
    "- `y`: \n",
    "  - **descrição**:\n",
    "  - **tipo**:\n",
    "- `z`: \n",
    "  - **descrição**:\n",
    "  - **tipo**:"
   ]
  },
  {
   "cell_type": "markdown",
   "metadata": {},
   "source": [
    "### Questão 6\n",
    "\n",
    "Utilize o método `value_counts` nas respectivas colunas para realizar contagens das frequências dos tipos de corte (coluna `\"cut\"`), de cor (coluna `\"color\"`) e de claridade (coluna `\"clarity\"`) nas observações em nossa base. Em seguida, responda: oara cada uma dessas três variáveis, qual é a categoria mais frequente?"
   ]
  },
  {
   "cell_type": "code",
   "execution_count": null,
   "metadata": {},
   "outputs": [],
   "source": [
    "# Sua resposta aqui - contagens da coluna \"cut\"\n"
   ]
  },
  {
   "cell_type": "code",
   "execution_count": null,
   "metadata": {},
   "outputs": [],
   "source": [
    "# Sua resposta aqui - contagens da coluna \"color\"\n"
   ]
  },
  {
   "cell_type": "code",
   "execution_count": null,
   "metadata": {},
   "outputs": [],
   "source": [
    "# Sua resposta aqui - contagens da coluna \"clarity\"\n"
   ]
  },
  {
   "cell_type": "markdown",
   "metadata": {},
   "source": [
    "#### Resposta\n",
    "\n",
    "..."
   ]
  },
  {
   "cell_type": "markdown",
   "metadata": {},
   "source": [
    "### Questão 7\n",
    "\n",
    "Produza um gráfico de pontos (*scatterplot*) relacionando o número de quilates dos diamantes em nossa base (coluna `\"carat\"`) com o preço de cada diamante (coluna `\"price\"`). Ao escolher quais variáveis representar em quais eixos, siga a convenção que estudamos em sala, supondo que o quilate é a variável explicativa e o preço é a variável de resposta.\n",
    "\n",
    "Adicione as seguintes customizações ao seu gráfico:\n",
    "- aumente a transparência dos pontos atribuindo o valor `0.1` ao argumento `alpha`,\n",
    "- modifique o tipo de ponto utilizado na representação atribuindo o valor `\".\"` ao argumento `marker` e\n",
    "- remova a borda branca dos pontos atribuindo o valor `\"none\"` ao argumento `edgecolor`."
   ]
  },
  {
   "cell_type": "code",
   "execution_count": null,
   "metadata": {},
   "outputs": [],
   "source": [
    "# Sua resposta aqui\n"
   ]
  },
  {
   "cell_type": "markdown",
   "metadata": {},
   "source": [
    "### Questão 8\n",
    "\n",
    "Vamos agora aprofundar nossa análise a respeito de um subgrupo específico dos diamantes em nossa base: os diamantes com o melhor corte (`\"Ideal`), mas com poucos quilates. Para isso vamos começar filtrando nossa base e salvando em uma base menor:\n",
    "\n",
    "- Filtre a base de dados para obter apenas os casos em que o corte do diamante é ideal (linhas em que o valor da coluna `\"cut\"` é `\"Ideal\"`).\n",
    "- Agora aplique um novo filtro à base filtrada para selecionar, dentre os casos de corte ideal, aqueles com menos de 1 quilate (linhas em que o valor da coluna `\"carat\"` é menor que `1`).\n"
   ]
  },
  {
   "cell_type": "code",
   "execution_count": null,
   "metadata": {},
   "outputs": [],
   "source": [
    "# Sua resposta aqui\n"
   ]
  },
  {
   "cell_type": "markdown",
   "metadata": {},
   "source": [
    "### Questão 9\n",
    "\n",
    "Partindo da base de dados filtrada, produza um novo gráfico de pontos (*scatterplor*) cruzando novamente os valores de quilates e preço. No entanto, crie cores diferentes para os diferentes níves de claridade, em ordem, para que seja possível identificar como o nível de claridade afeta o preço dos diamantes com o mesmo corte e com o mesmo número de quilates.\n",
    "\n",
    "Ao contruir seu gráfico, siga as instruções a seguir:\n",
    "\n",
    "- Crie uma palheta de cores com sequencial utilizando a seguinte linha de código: `palheta_claridade = sns.color_palette(\"mako\", n_colors=8)`\n",
    "- Crie uma lista com as categorias de claridade em ordem, do pior para o melhor nível de claridade (a descrição da coluna `\"clarity\"` na sua resposta à Questão 4 deve fornecer a ordem apropriada dos 8 níveis distintos de claridade existentes na base).\n",
    "- Crie o scatterplor passando as variáveis `\"carat\"` e `\"price\"` para os eixos, e a variável `\"clarity\"` para o `hue`.\n",
    "- Passe a lista que você criou com as categorias de claridade em ordem para o argumento `\"hue_order\"`.\n",
    "- Passe a palheta de cores que você criou para o argumento `\"palette\"`.\n",
    "- Reduza um pouco a transparência dos pontos, em relação ao exercício 6, atribuindo o valor `0.5` ao argumento `alpha`.\n",
    "- Mantenha as demais customizações do exercício 6 (*marker* e *edgecolor*)."
   ]
  },
  {
   "cell_type": "code",
   "execution_count": null,
   "metadata": {},
   "outputs": [],
   "source": [
    "# Sua resposta aqui\n"
   ]
  },
  {
   "cell_type": "markdown",
   "metadata": {},
   "source": [
    "### Questão 10\n",
    "\n",
    "O gráfico evidencia que de fato a claridade tem um impacto importante no preço dos diamantes, já que os melhores níveis de claridade tendem a ser mais caros, para um mesmo corte (\"Ideal\") e em faixas equivales de número de quilates. No entanto, o gráfico mostra também que a partir da faixa dos 0.7 quilates, diamantes com alta claridade tornam-se mais raros e o impacto dessa variável no preço também parece aumentar.\n",
    "\n",
    "Vamos escrever essa informação em nosso gráfico. \n",
    "\n",
    "Reproduza o mesmo gráfico da questão anterior, no entanto utilize a função `plt.subplots()` para criar manualmente a figura e os eixos do gráfico. Por meio do argumento `figsize`, crie um gráfico com a proporção 10 x 6.\n",
    "\n",
    "Em seguida, utilize a função `plt.text()` para anotar no gráfico o seguinte texto: \n",
    "\n",
    "```\"A partir de 0.7 quilates,\\ndiamantes com corte ideal\\ne alta claridade são menos\\ncomuns e mais caros.\"```\n",
    "\n",
    "Escreva o referido texto em cinza, e posicione o texto atribuindo os valores `0.7` e `8000` aos eixos x e y, respectivamente.\n",
    "\n",
    "Por fim, modifique os rótulos do gráfico. Os eixos devem ter os rótulos `\"Quilates\"` e `\"Preço (US$)\"`, evidenciando a variável representada. O título da legenda também deve ser colocado em português, deve dizer: `\"Claridade\"`. Por fim, adicione o seguinte título ao gráfico: `\"Preço dos diamantes com corte 'ideal' com menos de 1 quilate, por nível de claridade\"`"
   ]
  },
  {
   "cell_type": "code",
   "execution_count": null,
   "metadata": {},
   "outputs": [],
   "source": [
    "# Sua resposta aqui\n"
   ]
  }
 ],
 "metadata": {
  "kernelspec": {
   "display_name": "base",
   "language": "python",
   "name": "python3"
  },
  "language_info": {
   "codemirror_mode": {
    "name": "ipython",
    "version": 3
   },
   "file_extension": ".py",
   "mimetype": "text/x-python",
   "name": "python",
   "nbconvert_exporter": "python",
   "pygments_lexer": "ipython3",
   "version": "3.12.4"
  }
 },
 "nbformat": 4,
 "nbformat_minor": 2
}
