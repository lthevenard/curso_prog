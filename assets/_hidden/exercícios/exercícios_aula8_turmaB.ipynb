{
 "cells": [
  {
   "cell_type": "markdown",
   "metadata": {},
   "source": [
    "# Avaliação Continuada - Aula 6\n",
    "\n",
    "\n",
    "**Execute a célula a seguir para importar as bibliotecas de que vamos precisar e criar a variável `titanic` com nossa base de dados.**"
   ]
  },
  {
   "cell_type": "code",
   "execution_count": null,
   "metadata": {},
   "outputs": [],
   "source": [
    "# Importando a biblioteca seaborn\n",
    "import seaborn as sns\n",
    "import matplotlib.pyplot as plt\n",
    "\n",
    "# Carregando a base de dados 'titanic'\n",
    "titanic = sns.load_dataset(\"titanic\").query(\"fare > 15 and fare < 300 and pclass == 1\")\n",
    "\n",
    "titanic.head()"
   ]
  },
  {
   "cell_type": "markdown",
   "metadata": {},
   "source": [
    "### Sobre os dados\n",
    "\n",
    "No exercício de hoje, vamos utilizar as variáveis:\n",
    "\n",
    "- `fare`: indica o valor pago pela passagem, em dólares ($).\n",
    "- `age`: indica a idade do passageiro, em anos.\n",
    "\n",
    "### Exercício de hoje - Parte 1\n",
    "\n",
    "Utilize a função `sns.scatterplot()` para criar um gráfico que mostre a relação entre o valor pago pela viagem (coluna `\"fare\"`) e a idade do passageiro (coluna `\"age\"`).\n",
    "- Adote a convenção de eixos que vimos durante a aula, supondo que o valor pago pela viagem é a variável dependente ou de resposta, ao passo que a idade do passageiro é a variável independente ou explicativa.\n",
    "- Adicione à função o argumento `alpha` com o valor de `0.8`, de forma a deixar os pontos semi-transparentes para que possamos verificar onde há sobreposições de pontos.\n",
    "\n",
    "Após escrever a linha de código de sua resposta, execute a célula para mostrar o gráfico a partir da base `titanic`.\n",
    "\n",
    "**Importante: antes de executar o código da sua resposta, não deixe de executar a célula de código que está no início deste caderno, que importa as bibliotecas e carrega os dados.**"
   ]
  },
  {
   "cell_type": "code",
   "execution_count": null,
   "metadata": {},
   "outputs": [],
   "source": [
    "# Escreva sua resposta abaixo e execute a célula para gerar o gráfico\n"
   ]
  },
  {
   "cell_type": "markdown",
   "metadata": {},
   "source": [
    "### Exercício de hoje - Parte 2\n",
    "\n",
    "Execute novamente o mesmo gráfico, mas utilizando agora a função regplot para adicionar uma linha de tendência ao gráfico de pontos.\n",
    "- Remova a sombra do intervalo de confiança atribuindo o valor `None` ao argumento `ci` da função `regplot`.\n",
    "- Utilize o argumento `scatter_kws` da função regplot para que os pontos tenham um `alpha` de `0.8`. Para isso você precisa utilizar um dicionário com a chave `\"alpha\"` e o valor `0.8`.\n",
    "- Utilize o argumento `line_kws` da função regplot para alterar a cor da linha de tendência. Para tanto, utilize novamente um dicionário, agora com a chave `\"color\"` e o valor referente à cor de sua escolha (`\"red\"`, por exemplo)."
   ]
  },
  {
   "cell_type": "code",
   "execution_count": null,
   "metadata": {},
   "outputs": [],
   "source": [
    "# Escreva sua resposta abaixo e execute a célula para gerar o gráfico\n"
   ]
  }
 ],
 "metadata": {
  "kernelspec": {
   "display_name": "base",
   "language": "python",
   "name": "python3"
  },
  "language_info": {
   "codemirror_mode": {
    "name": "ipython",
    "version": 3
   },
   "file_extension": ".py",
   "mimetype": "text/x-python",
   "name": "python",
   "nbconvert_exporter": "python",
   "pygments_lexer": "ipython3",
   "version": "3.12.4"
  }
 },
 "nbformat": 4,
 "nbformat_minor": 2
}
