{
 "cells": [
  {
   "cell_type": "markdown",
   "metadata": {},
   "source": [
    "# Avaliação Continuada - Aula 10\n",
    "\n",
    "**Execute a célula a seguir para importar as bibliotecas de que vamos precisar e criar a variável `taxis` com nossa base de dados.**"
   ]
  },
  {
   "cell_type": "code",
   "execution_count": null,
   "metadata": {},
   "outputs": [],
   "source": [
    "# Importando a biblioteca seaborn\n",
    "import seaborn as sns\n",
    "import matplotlib.pyplot as plt\n",
    "\n",
    "# Carregando a base de dados 'taxis'\n",
    "taxis = sns.load_dataset(\"taxis\")\n",
    "\n",
    "taxis[\"card_payment\"] = taxis[\"payment\"] == \"credit card\"\n",
    "\n",
    "taxis.head()"
   ]
  },
  {
   "cell_type": "markdown",
   "metadata": {},
   "source": [
    "### Sobre os dados\n",
    "\n",
    "\n",
    "No exercício de hoje, vamos utilizar as seguintes variáveis:\n",
    "\n",
    "- `dropoff_borough`: bairro onde o passageiro foi deixado.\n",
    "- `fare`: valor da corrida, em dólares ($). \n",
    "- `card_payement`: indica se a corrida foi paga com cartão de crédito (1) ou não (0).\n",
    "- `pickup_borough`: bairro onde o passageiro pegou sua corrida.\n",
    "\n",
    "Nosso objetivo é verificar se há alguma relação entre essas variáveis."
   ]
  },
  {
   "cell_type": "markdown",
   "metadata": {},
   "source": [
    "### Exercício de hoje - Parte 1\n",
    "\n",
    "No exercício de hoje estamos interessados em analisar apenas os táxis da cor verde. Esses, ao contrário dos amarelos, não podem começar a corrida em Manhattan.\n",
    "\n",
    "Utilize a função `query` para selecionar apenas as linhas de corridas que começaram em Manhattan (`\"pickup_borough == 'Manhattan'\"`).\n",
    "\n",
    "Salve o resultado em uma variável chamada `manhattan_taxis`."
   ]
  },
  {
   "cell_type": "code",
   "execution_count": 2,
   "metadata": {},
   "outputs": [],
   "source": [
    "# continue o código abaixo\n",
    "manhattan_taxis = taxis\n"
   ]
  },
  {
   "cell_type": "markdown",
   "metadata": {},
   "source": [
    "### Exercício de hoje - Parte 2\n",
    "\n",
    "Seu trabalho hoje é modificar o gráfico abaixo explicando o achado de nossa análise.\n",
    "\n",
    "Antes de executar as células abaixo você deve ter feito a parte 1 do exercício.\n"
   ]
  },
  {
   "cell_type": "markdown",
   "metadata": {},
   "source": [
    "Aqui podemos observar a proporção de viagens que terminam em cada bairro pagas aos táxis verdes por cartão de crédito.\n",
    "\n",
    "A região do Queens apresenta uma proporção consideravelmente menor de viagens pagas com cartão de crédito em comparação às demais regiões.\n",
    "\n",
    "Você deve partir do gráfico abaixo, e deverá adicionar informações para facilitar sua interpretação:\n",
    "\n",
    "(Não mexa na célula a seguir. Há instruções e uma célular para você fazer seu código logo abaixo.)"
   ]
  },
  {
   "cell_type": "code",
   "execution_count": null,
   "metadata": {},
   "outputs": [],
   "source": [
    "sns.barplot(\n",
    "    x=\"dropoff_borough\",\n",
    "    y=\"card_payment\",\n",
    "    data=manhattan_taxis,\n",
    ")"
   ]
  },
  {
   "cell_type": "markdown",
   "metadata": {},
   "source": [
    "Sua tarefa é modificar o código abaixo para:\n",
    "\n",
    "1. Remover a barra de erro do gráfico, usando o argumento `errorbar`\n",
    "2. Adicionar um título que explique qual o significado de cada barra.\n",
    "2. Adicionar o valor de cada barra ao gráfico"
   ]
  },
  {
   "cell_type": "code",
   "execution_count": null,
   "metadata": {},
   "outputs": [],
   "source": [
    "fig, ax = plt.subplots()\n",
    "\n",
    "sns.barplot(\n",
    "    x=\"dropoff_borough\",\n",
    "    y=\"card_payment\",\n",
    "    data=manhattan_taxis,\n",
    "    ax=ax,\n",
    "    # remova o # para descomentar a linha abaixo\n",
    "    # errorbar=,\n",
    ")\n",
    "\n",
    "# adicione seu código abaixo\n",
    "\n"
   ]
  }
 ],
 "metadata": {
  "kernelspec": {
   "display_name": "eda",
   "language": "python",
   "name": "python3"
  },
  "language_info": {
   "codemirror_mode": {
    "name": "ipython",
    "version": 3
   },
   "file_extension": ".py",
   "mimetype": "text/x-python",
   "name": "python",
   "nbconvert_exporter": "python",
   "pygments_lexer": "ipython3",
   "version": "3.11.3"
  }
 },
 "nbformat": 4,
 "nbformat_minor": 2
}
