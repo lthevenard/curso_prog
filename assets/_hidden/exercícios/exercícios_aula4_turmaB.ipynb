{
 "cells": [
  {
   "cell_type": "markdown",
   "metadata": {},
   "source": [
    "# Avaliação Continuada - Aula 4\n",
    "\n",
    "### Base de Dados - Turma B\n",
    "\n",
    "Os exercícios de avaliação continuada da **Turma B** serão realizados com a base de dados de passageiros da embarcação Titanic, chamada de `titanic`. Essa é uma base de dados que é disponibilizada como dados de exemplo pela própria biblioteca `seaborn`, por meio da função `load_dataset`. \n",
    "\n",
    "**Execute a célula a seguir para importar as bibliotecas de que vamos precisar e criar a variável `titanic` com nossa base de dados.**"
   ]
  },
  {
   "cell_type": "code",
   "execution_count": null,
   "metadata": {},
   "outputs": [],
   "source": [
    "# Importando a biblioteca seaborn\n",
    "import seaborn as sns\n",
    "\n",
    "# Carregando a base de dados 'titanic'\n",
    "titanic = sns.load_dataset(\"titanic\")\n",
    "\n",
    "titanic.head()"
   ]
  },
  {
   "cell_type": "markdown",
   "metadata": {},
   "source": [
    "### Sobre os dados\n",
    "\n",
    "A base `titanic` contém informações sobre 891 passageiros do Titanic (unidade de observação). A base contém 15 variáveis (colunas), incluindo o sexo e a idade do passageiro, se ele sobreviveu ou não ao naufrágio, o preço pago pela viagem, a classe em que ele estava situado (Primeira Classe, Segunda Classe ou Terceira Classe), dentre outras informações.\n",
    "\n",
    "No exercício de hoje, vamos utilizar apenas a variável `age`, referente à idade dos passageiros do `titanic`. Queremos analisar como as idades dos passageiros estão distribuídas.\n",
    "\n",
    "### Exercício de hoje - Parte 1\n",
    "\n",
    "- Utilize a função `sns.histplot()` para criar um histograma que mostra o formato da distribuição da coluna `\"age\"`. \n",
    "- Escolha também uma cor para seu gráfico, diferente da cor padrão. Consulte [aqui](https://matplotlib.org/3.1.0/gallery/color/named_colors.html) uma lista de nomes de cores, se precisar.\n",
    "\n",
    "Após escrever a linha de código de sua resposta, execute a célula para mostrar o gráfico a partir da base `titanic`.\n",
    "\n",
    "**Importante: antes de executar o código da sua resposta, não deixe de executar a célula de código que está no início deste caderno, que importa as bibliotecas e carrega os dados.**"
   ]
  },
  {
   "cell_type": "code",
   "execution_count": null,
   "metadata": {},
   "outputs": [],
   "source": [
    "## Escreva sua resposta abaixo e execute a célula para gerar o gráfico\n"
   ]
  },
  {
   "cell_type": "markdown",
   "metadata": {},
   "source": [
    "### Exercício de hoje - Parte 2\n",
    "\n",
    "- Copie o código do gráfico anterior.\n",
    "- Agora você deve modificar os bins do seu histograma, estabelecendo o valor de `10` para o intervalo de cada bin (`binwidth`)."
   ]
  },
  {
   "cell_type": "code",
   "execution_count": null,
   "metadata": {},
   "outputs": [],
   "source": [
    "## Escreva sua resposta abaixo e execute a célula para gerar o gráfico\n"
   ]
  }
 ],
 "metadata": {
  "kernelspec": {
   "display_name": "base",
   "language": "python",
   "name": "python3"
  },
  "language_info": {
   "codemirror_mode": {
    "name": "ipython",
    "version": 3
   },
   "file_extension": ".py",
   "mimetype": "text/x-python",
   "name": "python",
   "nbconvert_exporter": "python",
   "pygments_lexer": "ipython3",
   "version": "3.12.4"
  }
 },
 "nbformat": 4,
 "nbformat_minor": 2
}
