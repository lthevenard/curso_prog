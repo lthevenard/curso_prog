{
 "cells": [
  {
   "cell_type": "markdown",
   "metadata": {},
   "source": [
    "# Avaliação Continuada - Aula 9\n",
    "\n",
    "\n",
    "**Execute a célula a seguir para importar as bibliotecas de que vamos precisar e criar a variável `titanic` com nossa base de dados.**"
   ]
  },
  {
   "cell_type": "code",
   "execution_count": null,
   "metadata": {},
   "outputs": [],
   "source": [
    "# Importando a biblioteca seaborn\n",
    "import seaborn as sns\n",
    "import matplotlib.pyplot as plt\n",
    "\n",
    "# Carregando a base de dados 'titanic'\n",
    "titanic = sns.load_dataset(\"titanic\")\n",
    "\n",
    "titanic.head()"
   ]
  },
  {
   "cell_type": "markdown",
   "metadata": {},
   "source": [
    "### Sobre os dados\n",
    "\n",
    "No exercício de hoje, vamos utilizar as variáveis:\n",
    "\n",
    "- `fare`: indica o valor pago pela passagem, em dólares ($).\n",
    "- `survived`: indica se o passageiro sobreviveu ao naufrágio, sendo 1 para sobreviveu e 0 para não sobreviveu.\n",
    "- `embark_town`: indica a cidade onde o passageiro embarcou no navio.\n",
    "- `sex`: indica o sexo do passageiro, sendo `male` para homens e `female` para mulheres.\n",
    "\n",
    "### Exercício de hoje - Parte 1\n",
    "\n",
    "No exercício de hoje estamos interessados em analisar apenas os passageiros do sexo feminino.\n",
    "\n",
    "Utilize a função `query` para selecionar apenas as linhas da base de dados que correspondem a passageiros do sexo feminino (`sex == 'female'`).\n",
    "\n",
    "Salve o resultado em uma variável chamada `titanic_female`."
   ]
  },
  {
   "cell_type": "code",
   "execution_count": null,
   "metadata": {},
   "outputs": [],
   "source": [
    "# continue o código abaixo\n",
    "titanic_female = titanic"
   ]
  },
  {
   "cell_type": "markdown",
   "metadata": {},
   "source": [
    "### Exercício de hoje - Parte 2\n",
    "\n",
    "Seu trabalho hoje é modificar o gráfico abaixo explicando o achado de nossa análise.\n",
    "\n",
    "Antes de executar as células abaixo você deve ter feito a parte 1 do exercício.\n",
    "\n",
    "Vejamos primeiro esse gráfico:"
   ]
  },
  {
   "cell_type": "code",
   "execution_count": null,
   "metadata": {},
   "outputs": [],
   "source": [
    "fig, ax = plt.subplots()\n",
    "\n",
    "sns.barplot(\n",
    "    x=\"embark_town\",\n",
    "    y=\"fare\",\n",
    "    data=titanic_female,\n",
    "    errorbar=None,\n",
    ")\n",
    "\n",
    "ax.bar_label(ax.containers[0])"
   ]
  },
  {
   "cell_type": "markdown",
   "metadata": {},
   "source": [
    "Podemos ver o valor médio pago pelas passageiras que embarcaram em cada uma das cidades diferentes.\n",
    "\n",
    "Há uma diferença considerável entre esses valores.\n",
    "\n",
    "Vamos usar essa informação, mas sua tarefa vai ser alterar o gráfico abaixo sobre a proporção de sobreviventes que embarcaram e cada cidade para mencionar o valor da passagem:"
   ]
  },
  {
   "cell_type": "code",
   "execution_count": null,
   "metadata": {},
   "outputs": [],
   "source": [
    "sns.barplot(\n",
    "    x=\"embark_town\",\n",
    "    y=\"survived\",\n",
    "    data=titanic_female,\n",
    "    errorbar=None,\n",
    ")"
   ]
  },
  {
   "cell_type": "markdown",
   "metadata": {},
   "source": [
    "Sua tarefa é modificar o código abaixo para:\n",
    "\n",
    "1. Adicionar um título e alterar o rótulo dos eixos do gráfico, explicando a informação dessas barras.\n",
    "2. Adicione o texto `\"Passageiras que embarcaram em Cherbough\\npagaram o maior valor na médio na passagem\\ne apresentaram a maior média de sobrevivência!\"` usando a função `plt.text` para adicionar essa informação no gráfico. Sugerimos colocar o texto na posição `x=0.42` e `y=0.8`."
   ]
  },
  {
   "cell_type": "code",
   "execution_count": null,
   "metadata": {},
   "outputs": [],
   "source": [
    "t = \"Passageiras que embarcaram em Cherbough\\npagaram o maior valor na médio na passagem\\ne apresentaram a maior média de sobrevivência!\""
   ]
  },
  {
   "cell_type": "code",
   "execution_count": null,
   "metadata": {},
   "outputs": [],
   "source": [
    "fig, ax = plt.subplots()\n",
    "\n",
    "sns.barplot(\n",
    "    x=\"embark_town\",\n",
    "    y=\"survived\",\n",
    "    data=titanic_female,\n",
    "    errorbar=None,\n",
    "    ax=ax,\n",
    ")\n",
    "\n",
    "# adicione seu código abaixo\n"
   ]
  },
  {
   "cell_type": "code",
   "execution_count": null,
   "metadata": {},
   "outputs": [],
   "source": []
  }
 ],
 "metadata": {
  "kernelspec": {
   "display_name": "eda_312",
   "language": "python",
   "name": "python3"
  },
  "language_info": {
   "codemirror_mode": {
    "name": "ipython",
    "version": 3
   },
   "file_extension": ".py",
   "mimetype": "text/x-python",
   "name": "python",
   "nbconvert_exporter": "python",
   "pygments_lexer": "ipython3",
   "version": "3.12.3"
  }
 },
 "nbformat": 4,
 "nbformat_minor": 2
}
