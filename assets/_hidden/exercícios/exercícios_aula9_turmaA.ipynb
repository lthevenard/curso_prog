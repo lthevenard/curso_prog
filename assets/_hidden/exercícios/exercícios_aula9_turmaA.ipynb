{
 "cells": [
  {
   "cell_type": "markdown",
   "metadata": {},
   "source": [
    "# Avaliação Continuada - Aula 9\n",
    "\n",
    "**Execute a célula a seguir para importar as bibliotecas de que vamos precisar e criar a variável `taxis` com nossa base de dados.**"
   ]
  },
  {
   "cell_type": "code",
   "execution_count": null,
   "metadata": {},
   "outputs": [],
   "source": [
    "# Importando a biblioteca seaborn\n",
    "import seaborn as sns\n",
    "import matplotlib.pyplot as plt\n",
    "\n",
    "# Carregando a base de dados 'taxis'\n",
    "taxis = sns.load_dataset(\"taxis\")\n",
    "\n",
    "taxis[\"card_payment\"] = taxis[\"payment\"] == \"credit card\"\n",
    "\n",
    "taxis.head()"
   ]
  },
  {
   "cell_type": "markdown",
   "metadata": {},
   "source": [
    "### Sobre os dados\n",
    "\n",
    "\n",
    "No exercício de hoje, vamos utilizar as seguintes variáveis:\n",
    "\n",
    "- `distance`: distância, em milhas, transcorrida na corrida.\n",
    "- `total`: valor total pago pela corrida, incluindo o trajeto e a gorjeta, em dólares ($).\n",
    "\n",
    "Nosso objetivo é verificar se há alguma relação entre essas variáveis."
   ]
  },
  {
   "cell_type": "markdown",
   "metadata": {},
   "source": [
    "### Exercício de hoje - Parte 1\n",
    "\n",
    "No exercício de hoje estamos interessados em analisar apenas os táxis da cor verde. Esses, ao contrário dos amarelos, não podem começar a corrida em Manhattan.\n",
    "\n",
    "Utilize a função `query` para selecionar apenas as linhas da base de dados que correspondem a táxis azuis (`color == 'green'`).\n",
    "\n",
    "Salve o resultado em uma variável chamada `green_taxis`."
   ]
  },
  {
   "cell_type": "code",
   "execution_count": null,
   "metadata": {},
   "outputs": [],
   "source": [
    "# continue o código abaixo\n",
    "green_taxis = taxis"
   ]
  },
  {
   "cell_type": "markdown",
   "metadata": {},
   "source": [
    "### Exercício de hoje - Parte 2\n",
    "\n",
    "Seu trabalho hoje é modificar o gráfico abaixo explicando o achado de nossa análise.\n",
    "\n",
    "Antes de executar as células abaixo você deve ter feito a parte 1 do exercício.\n",
    "\n",
    "Vejamos primeiro esse gráfico:\n"
   ]
  },
  {
   "cell_type": "code",
   "execution_count": null,
   "metadata": {},
   "outputs": [],
   "source": [
    "green_taxis = taxis.query(\"color == 'green'\")"
   ]
  },
  {
   "cell_type": "code",
   "execution_count": null,
   "metadata": {},
   "outputs": [],
   "source": [
    "fig, ax = plt.subplots()\n",
    "\n",
    "sns.barplot(\n",
    "    x=\"dropoff_borough\",\n",
    "    y=\"card_payment\",\n",
    "    data=green_taxis,\n",
    "    errorbar=None,\n",
    "    ax=ax,\n",
    ")\n",
    "\n",
    "ax.bar_label(ax.containers[0])"
   ]
  },
  {
   "cell_type": "markdown",
   "metadata": {},
   "source": [
    "Aqui podemos observar a proporção de viagens que terminam em cada bairro pagas aos táxis verdes por cartão de crédito.\n",
    "\n",
    "A região do Queens apresenta uma proporção consideravelmente menor de viagens pagas com cartão de crédito em comparação às demais regiões.\n",
    "\n",
    "Vamos usar essa informação, mas sua tarefa vai ser alterar o gráfico abaixo sobre o valor médio das passagens encerradas em cada região:"
   ]
  },
  {
   "cell_type": "code",
   "execution_count": null,
   "metadata": {},
   "outputs": [],
   "source": [
    "sns.barplot(\n",
    "    x=\"dropoff_borough\",\n",
    "    y=\"fare\",\n",
    "    data=green_taxis,\n",
    "    errorbar=None,\n",
    ")"
   ]
  },
  {
   "cell_type": "markdown",
   "metadata": {},
   "source": [
    "Sua tarefa é modificar o código abaixo para:\n",
    "\n",
    "1. Adicionar um título e alterar o rótulo dos eixos do gráfico, explicando a informação dessas barras.\n",
    "2. Adicione o texto `\"Viagens encerradas no Queens têm valor\\nmais baixo e menor frequência de\\npagamento em cartão de crédito!\"` usando a função `plt.text` para adicionar essa informação no gráfico. Sugerimos colocar o texto na posição `x=0` e `y=15`."
   ]
  },
  {
   "cell_type": "code",
   "execution_count": null,
   "metadata": {},
   "outputs": [],
   "source": [
    "t = \"Viagens encerradas no Queens têm valor\\nmais baixo e menor frequência de\\npagamento em cartão de crédito!\""
   ]
  },
  {
   "cell_type": "code",
   "execution_count": null,
   "metadata": {},
   "outputs": [],
   "source": [
    "fig, ax = plt.subplots()\n",
    "\n",
    "sns.barplot(\n",
    "    x=\"dropoff_borough\",\n",
    "    y=\"fare\",\n",
    "    data=green_taxis,\n",
    "    errorbar=None,\n",
    "    ax=ax,\n",
    ")\n",
    "\n",
    "# adicione seu código abaixo\n"
   ]
  },
  {
   "cell_type": "code",
   "execution_count": null,
   "metadata": {},
   "outputs": [],
   "source": []
  }
 ],
 "metadata": {
  "kernelspec": {
   "display_name": "eda_312",
   "language": "python",
   "name": "python3"
  },
  "language_info": {
   "codemirror_mode": {
    "name": "ipython",
    "version": 3
   },
   "file_extension": ".py",
   "mimetype": "text/x-python",
   "name": "python",
   "nbconvert_exporter": "python",
   "pygments_lexer": "ipython3",
   "version": "3.12.3"
  }
 },
 "nbformat": 4,
 "nbformat_minor": 2
}
