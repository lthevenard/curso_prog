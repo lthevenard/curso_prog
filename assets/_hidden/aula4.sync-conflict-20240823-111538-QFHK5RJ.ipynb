{
 "cells": [
  {
   "cell_type": "markdown",
   "metadata": {},
   "source": [
    "# Histplot: Conhecendo o formato de uma distribuição de valores\n",
    "\n",
    "Nessa aula vamos continuar expandindo o nosso vocabulário de vizualizações gráficas com um novo modelo de gráfico: o histograma. Vamos começar apresentando este gráfico, muito utilizado nas ciências exatas para compreender como uma variável numérica se comporta. Vamos, em seguida, começar a aprender a mexer nos eixos do gráfico e, ao final da aula, vamos também conferir uma outra ferramenta que podemos utilizar para visualizar o formato de uma distribuição: a curva de estimativa de densidade.\n",
    "\n",
    "## 1. O que é um histograma?\n",
    "\n",
    "Um histograma é uma ferramenta gráfica amplamente utilizada em análise de dados e estatística para representar a distribuição de um conjunto de dados. Ele é composto por barras verticais, cada uma representando a frequência de obervações em uma faixa de valores (ou intervalo).\n",
    "\n",
    "Imagine que você tem um grupo de dados, como as alturas de uma turma de estudantes. Um histograma pode ser usado para visualizar quantos alunos estão em cada faixa etária, por exemplo, quantos têm entre 1,50 metros e 1,60 metros, entre 1,60 e 1,70, e assim por diante. Cada uma dessas faixas de idade seria representada por uma barra no histograma, e a altura da barra mostraria quantos alunos estão dentro daquela faixa específica.\n",
    "\n",
    "O histograma é particularmente útil porque permite ver rapidamente a forma da distribuição dos dados, identificando padrões como concentrações de valores (onde as barras são mais altas) ou a presença de outliers (valores fora do padrão). Por permitir a visualização rápida e eficaz das tendências de uma variável numérica, histogramas são ferramentas poderosas usadas frequentemente em diversas áreas da pesquisa científica, não apenas nas ciências exatas e naturais, mas também em ciências sociais e políticas, em economia, entre outras.\n",
    "\n",
    "## 2. Utilizando a função histplot para criar histogramas\n",
    "\n",
    "A seguir, vamos aprender a criar histogramas utilizando a função `histplot` da biblioteca `seaborn`. No entanto, antes de começar a criar nossas visualizações, precisamos executar algumas linhas de código preliminares, já vistas nos capítulos anteriores, além de apresentar uma nova base de dados, que utilizaremos nesta aula.\n",
    "\n",
    "### 2.1. Passos preliminares\n",
    "\n",
    "Antes de iniciar qualquer tarefa de análise de dados e criação de gráficos, precisamos carregar as nossas já conhecidas bibliotecas.\n"
   ]
  },
  {
   "cell_type": "code",
   "execution_count": 77,
   "metadata": {},
   "outputs": [],
   "source": [
    "import pandas as pd\n",
    "import matplotlib.pyplot as plt\n",
    "import seaborn as sns"
   ]
  },
  {
   "cell_type": "markdown",
   "metadata": {},
   "source": [
    "Vamos utilizar dados relacionados ao Índice de Desenvolvimento Humano – IDH de diversos países, disponibilizados pelo [Programa da Onu para o Desenvolvimento](https://hdr.undp.org/data-center/human-development-index#/indicies/HDI). Os dados já foram tratados para que tenhamos apenas uma seleção de variáveis de nosso interesse, em português e em um formato **tidy**.\n",
    "\n",
    "Criamos duas versões dessa mesma base de dados para as nossas aulas. Uma delas, a versão completa, inclui dados de 195 países entre os anos de 1990 e 2022, totalizando 6435 linhas. A segunda versão inclui apenas os dados desses países para 2022, totalizando assim 195 linhas. Na aula de hoje, vamos utilizar apenas essa segunda versão, com dados apenas de 2022, que podemos carregar utilizando a seguinte linha de código:"
   ]
  },
  {
   "cell_type": "code",
   "execution_count": 91,
   "metadata": {},
   "outputs": [
    {
     "data": {
      "text/html": [
       "<div>\n",
       "<style scoped>\n",
       "    .dataframe tbody tr th:only-of-type {\n",
       "        vertical-align: middle;\n",
       "    }\n",
       "\n",
       "    .dataframe tbody tr th {\n",
       "        vertical-align: top;\n",
       "    }\n",
       "\n",
       "    .dataframe thead th {\n",
       "        text-align: right;\n",
       "    }\n",
       "</style>\n",
       "<table border=\"1\" class=\"dataframe\">\n",
       "  <thead>\n",
       "    <tr style=\"text-align: right;\">\n",
       "      <th></th>\n",
       "      <th>sigla</th>\n",
       "      <th>pais</th>\n",
       "      <th>grupo_idh</th>\n",
       "      <th>regiao</th>\n",
       "      <th>ranking_idh</th>\n",
       "      <th>idh</th>\n",
       "      <th>idh_ev</th>\n",
       "      <th>idh_ee</th>\n",
       "      <th>idh_me</th>\n",
       "      <th>idh_rpc</th>\n",
       "      <th>...</th>\n",
       "      <th>gdi_ev_m</th>\n",
       "      <th>gdi_ee_m</th>\n",
       "      <th>gdi_me_m</th>\n",
       "      <th>gdi_rpc_m</th>\n",
       "      <th>extra_ap_f</th>\n",
       "      <th>extra_ap_m</th>\n",
       "      <th>extra_ft_f</th>\n",
       "      <th>extra_ft_m</th>\n",
       "      <th>extra_co2</th>\n",
       "      <th>extra_pop</th>\n",
       "    </tr>\n",
       "  </thead>\n",
       "  <tbody>\n",
       "    <tr>\n",
       "      <th>0</th>\n",
       "      <td>AFG</td>\n",
       "      <td>Afeganistão</td>\n",
       "      <td>Baixo</td>\n",
       "      <td>Ásia do Sul</td>\n",
       "      <td>182.0</td>\n",
       "      <td>0.462</td>\n",
       "      <td>62.879</td>\n",
       "      <td>10.705385</td>\n",
       "      <td>2.514790</td>\n",
       "      <td>1335.205733</td>\n",
       "      <td>...</td>\n",
       "      <td>59.766</td>\n",
       "      <td>13.228449</td>\n",
       "      <td>3.912740</td>\n",
       "      <td>2256.217507</td>\n",
       "      <td>27.215190</td>\n",
       "      <td>72.784810</td>\n",
       "      <td>23.33</td>\n",
       "      <td>77.09</td>\n",
       "      <td>0.306318</td>\n",
       "      <td>41.128771</td>\n",
       "    </tr>\n",
       "    <tr>\n",
       "      <th>1</th>\n",
       "      <td>ALB</td>\n",
       "      <td>Albânia</td>\n",
       "      <td>Alto</td>\n",
       "      <td>Europa e Ásia Central</td>\n",
       "      <td>74.0</td>\n",
       "      <td>0.789</td>\n",
       "      <td>76.833</td>\n",
       "      <td>14.487470</td>\n",
       "      <td>10.121144</td>\n",
       "      <td>15293.326510</td>\n",
       "      <td>...</td>\n",
       "      <td>74.502</td>\n",
       "      <td>14.292200</td>\n",
       "      <td>10.433855</td>\n",
       "      <td>17398.003690</td>\n",
       "      <td>35.714286</td>\n",
       "      <td>64.285714</td>\n",
       "      <td>56.08</td>\n",
       "      <td>69.91</td>\n",
       "      <td>1.717758</td>\n",
       "      <td>2.842321</td>\n",
       "    </tr>\n",
       "    <tr>\n",
       "      <th>2</th>\n",
       "      <td>DZA</td>\n",
       "      <td>Argélia</td>\n",
       "      <td>Alto</td>\n",
       "      <td>Países Árabes</td>\n",
       "      <td>93.0</td>\n",
       "      <td>0.745</td>\n",
       "      <td>77.129</td>\n",
       "      <td>15.487880</td>\n",
       "      <td>6.987444</td>\n",
       "      <td>10978.405710</td>\n",
       "      <td>...</td>\n",
       "      <td>75.853</td>\n",
       "      <td>14.743880</td>\n",
       "      <td>7.481537</td>\n",
       "      <td>17858.790780</td>\n",
       "      <td>7.005254</td>\n",
       "      <td>92.994746</td>\n",
       "      <td>17.57</td>\n",
       "      <td>65.53</td>\n",
       "      <td>4.079540</td>\n",
       "      <td>44.903225</td>\n",
       "    </tr>\n",
       "    <tr>\n",
       "      <th>3</th>\n",
       "      <td>AND</td>\n",
       "      <td>Andorra</td>\n",
       "      <td>Muito Alto</td>\n",
       "      <td>NaN</td>\n",
       "      <td>35.0</td>\n",
       "      <td>0.884</td>\n",
       "      <td>83.552</td>\n",
       "      <td>12.783780</td>\n",
       "      <td>11.613440</td>\n",
       "      <td>54233.449480</td>\n",
       "      <td>...</td>\n",
       "      <td>81.430</td>\n",
       "      <td>12.810630</td>\n",
       "      <td>11.704380</td>\n",
       "      <td>NaN</td>\n",
       "      <td>46.428571</td>\n",
       "      <td>53.571429</td>\n",
       "      <td>NaN</td>\n",
       "      <td>NaN</td>\n",
       "      <td>4.593593</td>\n",
       "      <td>0.079824</td>\n",
       "    </tr>\n",
       "    <tr>\n",
       "      <th>4</th>\n",
       "      <td>AGO</td>\n",
       "      <td>Angola</td>\n",
       "      <td>Mediano</td>\n",
       "      <td>África Sub-sahariana</td>\n",
       "      <td>150.0</td>\n",
       "      <td>0.591</td>\n",
       "      <td>61.929</td>\n",
       "      <td>12.167600</td>\n",
       "      <td>5.844292</td>\n",
       "      <td>5327.788251</td>\n",
       "      <td>...</td>\n",
       "      <td>59.351</td>\n",
       "      <td>12.909900</td>\n",
       "      <td>7.187960</td>\n",
       "      <td>5973.845631</td>\n",
       "      <td>33.636364</td>\n",
       "      <td>66.363636</td>\n",
       "      <td>74.73</td>\n",
       "      <td>78.16</td>\n",
       "      <td>0.507359</td>\n",
       "      <td>35.588987</td>\n",
       "    </tr>\n",
       "    <tr>\n",
       "      <th>...</th>\n",
       "      <td>...</td>\n",
       "      <td>...</td>\n",
       "      <td>...</td>\n",
       "      <td>...</td>\n",
       "      <td>...</td>\n",
       "      <td>...</td>\n",
       "      <td>...</td>\n",
       "      <td>...</td>\n",
       "      <td>...</td>\n",
       "      <td>...</td>\n",
       "      <td>...</td>\n",
       "      <td>...</td>\n",
       "      <td>...</td>\n",
       "      <td>...</td>\n",
       "      <td>...</td>\n",
       "      <td>...</td>\n",
       "      <td>...</td>\n",
       "      <td>...</td>\n",
       "      <td>...</td>\n",
       "      <td>...</td>\n",
       "      <td>...</td>\n",
       "    </tr>\n",
       "    <tr>\n",
       "      <th>190</th>\n",
       "      <td>VEN</td>\n",
       "      <td>Venezuela</td>\n",
       "      <td>Mediano</td>\n",
       "      <td>América Latina e Caribe</td>\n",
       "      <td>119.0</td>\n",
       "      <td>0.699</td>\n",
       "      <td>71.105</td>\n",
       "      <td>13.502064</td>\n",
       "      <td>9.628154</td>\n",
       "      <td>6184.136000</td>\n",
       "      <td>...</td>\n",
       "      <td>66.875</td>\n",
       "      <td>12.386829</td>\n",
       "      <td>9.469866</td>\n",
       "      <td>8125.532772</td>\n",
       "      <td>22.155689</td>\n",
       "      <td>77.844311</td>\n",
       "      <td>45.21</td>\n",
       "      <td>70.57</td>\n",
       "      <td>2.539494</td>\n",
       "      <td>28.301696</td>\n",
       "    </tr>\n",
       "    <tr>\n",
       "      <th>191</th>\n",
       "      <td>VNM</td>\n",
       "      <td>Vietnã</td>\n",
       "      <td>Alto</td>\n",
       "      <td>Ásia do Leste e Pacífico</td>\n",
       "      <td>107.0</td>\n",
       "      <td>0.726</td>\n",
       "      <td>74.580</td>\n",
       "      <td>13.052947</td>\n",
       "      <td>8.455349</td>\n",
       "      <td>10813.982730</td>\n",
       "      <td>...</td>\n",
       "      <td>69.927</td>\n",
       "      <td>12.792697</td>\n",
       "      <td>8.789584</td>\n",
       "      <td>12042.413790</td>\n",
       "      <td>30.260521</td>\n",
       "      <td>69.739479</td>\n",
       "      <td>68.54</td>\n",
       "      <td>77.84</td>\n",
       "      <td>3.617121</td>\n",
       "      <td>98.186856</td>\n",
       "    </tr>\n",
       "    <tr>\n",
       "      <th>192</th>\n",
       "      <td>YEM</td>\n",
       "      <td>Iêmen</td>\n",
       "      <td>Baixo</td>\n",
       "      <td>Países Árabes</td>\n",
       "      <td>186.0</td>\n",
       "      <td>0.424</td>\n",
       "      <td>63.720</td>\n",
       "      <td>7.935313</td>\n",
       "      <td>2.776826</td>\n",
       "      <td>1105.763435</td>\n",
       "      <td>...</td>\n",
       "      <td>60.493</td>\n",
       "      <td>8.919806</td>\n",
       "      <td>3.587976</td>\n",
       "      <td>2041.915582</td>\n",
       "      <td>0.294118</td>\n",
       "      <td>99.705882</td>\n",
       "      <td>5.84</td>\n",
       "      <td>64.69</td>\n",
       "      <td>0.351347</td>\n",
       "      <td>33.696614</td>\n",
       "    </tr>\n",
       "    <tr>\n",
       "      <th>193</th>\n",
       "      <td>ZMB</td>\n",
       "      <td>Zâmbia</td>\n",
       "      <td>Mediano</td>\n",
       "      <td>África Sub-sahariana</td>\n",
       "      <td>153.0</td>\n",
       "      <td>0.569</td>\n",
       "      <td>61.803</td>\n",
       "      <td>11.017970</td>\n",
       "      <td>7.284893</td>\n",
       "      <td>3157.358620</td>\n",
       "      <td>...</td>\n",
       "      <td>59.058</td>\n",
       "      <td>10.983883</td>\n",
       "      <td>8.326238</td>\n",
       "      <td>3800.490760</td>\n",
       "      <td>15.060241</td>\n",
       "      <td>84.939759</td>\n",
       "      <td>54.16</td>\n",
       "      <td>66.36</td>\n",
       "      <td>0.444880</td>\n",
       "      <td>20.017675</td>\n",
       "    </tr>\n",
       "    <tr>\n",
       "      <th>194</th>\n",
       "      <td>ZWE</td>\n",
       "      <td>Zimbábue</td>\n",
       "      <td>Mediano</td>\n",
       "      <td>África Sub-sahariana</td>\n",
       "      <td>159.0</td>\n",
       "      <td>0.550</td>\n",
       "      <td>59.391</td>\n",
       "      <td>11.025587</td>\n",
       "      <td>8.807763</td>\n",
       "      <td>2078.918063</td>\n",
       "      <td>...</td>\n",
       "      <td>56.428</td>\n",
       "      <td>11.375836</td>\n",
       "      <td>9.590724</td>\n",
       "      <td>2433.257978</td>\n",
       "      <td>33.625731</td>\n",
       "      <td>66.374269</td>\n",
       "      <td>60.01</td>\n",
       "      <td>71.59</td>\n",
       "      <td>0.524975</td>\n",
       "      <td>16.320537</td>\n",
       "    </tr>\n",
       "  </tbody>\n",
       "</table>\n",
       "<p>195 rows × 27 columns</p>\n",
       "</div>"
      ],
      "text/plain": [
       "    sigla         pais   grupo_idh                    regiao  ranking_idh  \\\n",
       "0     AFG  Afeganistão       Baixo               Ásia do Sul        182.0   \n",
       "1     ALB      Albânia        Alto     Europa e Ásia Central         74.0   \n",
       "2     DZA      Argélia        Alto             Países Árabes         93.0   \n",
       "3     AND      Andorra  Muito Alto                       NaN         35.0   \n",
       "4     AGO       Angola     Mediano      África Sub-sahariana        150.0   \n",
       "..    ...          ...         ...                       ...          ...   \n",
       "190   VEN    Venezuela     Mediano   América Latina e Caribe        119.0   \n",
       "191   VNM       Vietnã        Alto  Ásia do Leste e Pacífico        107.0   \n",
       "192   YEM        Iêmen       Baixo             Países Árabes        186.0   \n",
       "193   ZMB       Zâmbia     Mediano      África Sub-sahariana        153.0   \n",
       "194   ZWE     Zimbábue     Mediano      África Sub-sahariana        159.0   \n",
       "\n",
       "       idh  idh_ev     idh_ee     idh_me       idh_rpc  ...  gdi_ev_m  \\\n",
       "0    0.462  62.879  10.705385   2.514790   1335.205733  ...    59.766   \n",
       "1    0.789  76.833  14.487470  10.121144  15293.326510  ...    74.502   \n",
       "2    0.745  77.129  15.487880   6.987444  10978.405710  ...    75.853   \n",
       "3    0.884  83.552  12.783780  11.613440  54233.449480  ...    81.430   \n",
       "4    0.591  61.929  12.167600   5.844292   5327.788251  ...    59.351   \n",
       "..     ...     ...        ...        ...           ...  ...       ...   \n",
       "190  0.699  71.105  13.502064   9.628154   6184.136000  ...    66.875   \n",
       "191  0.726  74.580  13.052947   8.455349  10813.982730  ...    69.927   \n",
       "192  0.424  63.720   7.935313   2.776826   1105.763435  ...    60.493   \n",
       "193  0.569  61.803  11.017970   7.284893   3157.358620  ...    59.058   \n",
       "194  0.550  59.391  11.025587   8.807763   2078.918063  ...    56.428   \n",
       "\n",
       "      gdi_ee_m   gdi_me_m     gdi_rpc_m  extra_ap_f  extra_ap_m  extra_ft_f  \\\n",
       "0    13.228449   3.912740   2256.217507   27.215190   72.784810       23.33   \n",
       "1    14.292200  10.433855  17398.003690   35.714286   64.285714       56.08   \n",
       "2    14.743880   7.481537  17858.790780    7.005254   92.994746       17.57   \n",
       "3    12.810630  11.704380           NaN   46.428571   53.571429         NaN   \n",
       "4    12.909900   7.187960   5973.845631   33.636364   66.363636       74.73   \n",
       "..         ...        ...           ...         ...         ...         ...   \n",
       "190  12.386829   9.469866   8125.532772   22.155689   77.844311       45.21   \n",
       "191  12.792697   8.789584  12042.413790   30.260521   69.739479       68.54   \n",
       "192   8.919806   3.587976   2041.915582    0.294118   99.705882        5.84   \n",
       "193  10.983883   8.326238   3800.490760   15.060241   84.939759       54.16   \n",
       "194  11.375836   9.590724   2433.257978   33.625731   66.374269       60.01   \n",
       "\n",
       "     extra_ft_m  extra_co2  extra_pop  \n",
       "0         77.09   0.306318  41.128771  \n",
       "1         69.91   1.717758   2.842321  \n",
       "2         65.53   4.079540  44.903225  \n",
       "3           NaN   4.593593   0.079824  \n",
       "4         78.16   0.507359  35.588987  \n",
       "..          ...        ...        ...  \n",
       "190       70.57   2.539494  28.301696  \n",
       "191       77.84   3.617121  98.186856  \n",
       "192       64.69   0.351347  33.696614  \n",
       "193       66.36   0.444880  20.017675  \n",
       "194       71.59   0.524975  16.320537  \n",
       "\n",
       "[195 rows x 27 columns]"
      ]
     },
     "execution_count": 91,
     "metadata": {},
     "output_type": "execute_result"
    }
   ],
   "source": [
    "idh_2022 = pd.read_csv(\"https://bit.ly/idh_tidy_2022\")\n",
    "idh_2022"
   ]
  },
  {
   "cell_type": "markdown",
   "metadata": {},
   "source": [
    "A base `idh_2022` possui 27 colunas, com informações gerais do país (como a sigla, o nome, a região em que se encontra), bem como os resultados de diversas medidas quantitativas relevantes de seu desenvolvimento. Esses indicadores de desenvolvimento podem ser divididos em três grupos: (i) IDH e seus componentes; (ii) GDI e seus componentes; (iii) outros indicadores extras.\n",
    "\n",
    "A lista a seguir indica qual variável é medida em cada coluna da base:\n",
    "\n",
    " - `sigla`: A sigla do nome do país (formato iso3).\n",
    " - `pais`: O nome do país, em português.\n",
    " - `grupo_idh`: A qual grupo da divisão do IDH feito pelas Nações Unidas pertence o país. Há quatro grupos: `\"Baixo\"`, `\"Mediano\"`, `\"Alto\"`, `\"Muito Alto\"`.\n",
    " - `regiao`: Região geográfica a que pertence o país, dentre as 6 categorias de classificação utilizadas pelas Nações Unidas (nem todos os países se enquadram em uma dessas 6 categorias).\n",
    " - `ranking_idh`: Posição do país no ranking do IDH de 2022.\n",
    " - `idh`: Índice de Desenvolvimento Humano - IDH.\n",
    " - `idh_ev`: Expectativa de vida (Anos).\n",
    " - `idh_ee`: Expectativa de escolaridade (Anos).\n",
    " - `idh_me`: Média de escolaridade (Anos).\n",
    " - `idh_rpc`: Renda Per Capita (PPC$ em 2017).\n",
    " - `gdi`: Índice de Desenvolvimento de Gênero - IDG.\n",
    " - `gdi_idh_f`: Índice de Desenvolvimento Humano Feminino.\n",
    " - `gdi_idh_m`: Índice de Desenvolvimento Humano Masculino.\n",
    " - `gdi_ev_f`: Expectativa de vida das mulheres (Anos).\n",
    " - `gdi_ev_m`: Expectativa de vida dos homens (Anos).\n",
    " - `gdi_ee_f`: Expectativa de escolaridade das mulheres (Anos).\n",
    " - `gdi_ee_m`: Expectativa de escolaridade dos homens (Anos).\n",
    " - `gdi_me_f`: Média de escolaridade das mulheres (Anos).\n",
    " - `gdi_me_m`: Média de escolaridade dos homens (Anos).\n",
    " - `gdi_rpc_f`: Renda Per Capita das mulheres (PPC$ em 2017).\n",
    " - `gdi_rpc_m`: Renda Per Capita dos homens (PPC$ em 2017).\n",
    " - `extra_ap_f`: Assentos do parlamento ocupados por mulheres (%).\n",
    " - `extra_ap_m`: Assentos do parlamento ocupados por homens (%).\n",
    " - `extra_ft_f`: Mulheres com +15 anos na força de trabalho (%).\n",
    " - `extra_ft_m`: Homens com +15 anos na força de trabalho (%).\n",
    " - `extra_co2`: Emissão per capita de dióxido de carbono da produção (Toneladas).\n",
    " - `extra_pop`: População Total."
   ]
  },
  {
   "cell_type": "markdown",
   "metadata": {},
   "source": [
    "Agora que já carregamos nossas bibliotecas e já conhecemos os dados com os quais teremos que trabalhar, vamos à criação do nosso primeiro histograma.\n",
    "\n",
    "### 2.2. Histplot\n",
    "\n",
    "Podemos criar um histograma utilizando a função `histplot()` da biblioteca seaborn. Como histogramas representam contagens de frequência de apenas uma variável numérica, precisamos apenas especificar qual variável queremos analisar.\n",
    "\n",
    "Vamos começar nossa análise com as 4 componentes que formam o IDH: (i) expectativa de vida, (ii) expectativa de escolaridade, (iii) média de anos de escolaridade e (iv) renda per capita. O código a seguir cria um histograma da primeira dessas componentes, a expectativa de vida total da população (coluna `\"idh_ev\"` da nossa base)."
   ]
  },
  {
   "cell_type": "code",
   "execution_count": 93,
   "metadata": {},
   "outputs": [
    {
     "data": {
      "text/plain": [
       "<Axes: xlabel='idh_ev', ylabel='Count'>"
      ]
     },
     "execution_count": 93,
     "metadata": {},
     "output_type": "execute_result"
    },
    {
     "data": {
      "image/png": "[encoded data removed]",
      "text/plain": [
       "<Figure size 640x480 with 1 Axes>"
      ]
     },
     "metadata": {},
     "output_type": "display_data"
    }
   ],
   "source": [
    "sns.histplot(x=\"idh_ev\", data=idh_2022)"
   ]
  },
  {
   "cell_type": "markdown",
   "metadata": {},
   "source": [
    "O gráfico nos permite observar que a medida de expectativa de vida da população segue uma distribuição normal entre os países. Em 2022, houve poucos países com expectativa de vida muito alta (acima de 80 anos) ou muito baixa (abaixo de 60 anos). A maior parte dos países estavam concentrados em faixas de expectativa de vida que vão de pouco menos de 65 anos até pouco menos de 80 anos.\n",
    "\n",
    "Agora vamos criar um histograma para analisar a segunda componente do IDH: a expectativa de escolaridade (coluna `\"idh_ee\"` da nossa base). Apenas para lembrar nossa última aula, vamos selecionar uma cor diferente para o nosso histograma, utilizando o argumento `color` (uma lista com o nome de cores disponíveis pode ser encontrada [aqui](https://matplotlib.org/stable/gallery/color/named_colors.html))."
   ]
  },
  {
   "cell_type": "code",
   "execution_count": 101,
   "metadata": {},
   "outputs": [
    {
     "data": {
      "text/plain": [
       "<Axes: xlabel='idh_ee', ylabel='Count'>"
      ]
     },
     "execution_count": 101,
     "metadata": {},
     "output_type": "execute_result"
    },
    {
     "data": {
      "image/png": "[encoded data removed]",
      "text/plain": [
       "<Figure size 640x480 with 1 Axes>"
      ]
     },
     "metadata": {},
     "output_type": "display_data"
    }
   ],
   "source": [
    "sns.histplot(x=\"idh_ee\", color=\"forestgreen\", data=idh_2022)"
   ]
  },
  {
   "cell_type": "markdown",
   "metadata": {},
   "source": [
    "Novamente verificamos uma distribuição que segue o formato da curva normal. A maioria dos países apresentaram, em 2022, uma expectativa de escolaridade superior a 10 anos e inferior a 18 anos.\n",
    "\n",
    "#### 2.2.1. Alterando os intervalos do histograma\n",
    "\n",
    "No entanto, uma outra característica desse gráfico pode chamar nossa atenção: as barras parecem estar mais finas do que as barras do gráfico anterior. Por que isso aconteceu?\n",
    "\n",
    "Como vimos, ao criar um histograma estabelecemos um conjunto de faixas de valores (intervalos) e medimos a frequência de ocorrência da nossa variável em cada intervalo. Cada barra representa o número de casos ou observações que se encontram naquele intervalo de valores. Podemos pensar nesse procedimento como o ato de colocar as observações dentro de \"cestas\", de acordo com o intervalo de valor no qual nossa observação se insere. Mas o que não dissemos antes é: como são definidos esses intervalos de valores que queremos analisar?\n",
    "\n",
    "Na verdade, essa não é uma pergunta muito simples. A função `histplot` tenta estimar, a partir de caraterísticas da própria variável numérica que estamos analisando, quais seriam os intervalos mais apropriados. No entanto, é  importante destacar que essa quantidade de intervalos (ou \"cestas\") pode interferir em nossa visualização dos dados. Se tivermos um bom motivo para achar que os intervalos selecionados pela função `histplot` não estão adequados, podemos interferir e mudar esses intervalos.\n",
    "\n",
    "Uma forma de fazer isso é por meio do argumento `bins`. Esse argumento pode ser utilizado para determinar o número de \"cestas\" (intervalos) que queremos utilizar. O código abaixo repete o nosso último gráfico (distribuição da expectativa de escolaridade), alterando apenas o número de \"cestas\" utilizadas em nosso histograma. Tínhamos anteriormente 12 cestas, agora vamos utilizar apenas 8 cestas."
   ]
  },
  {
   "cell_type": "code",
   "execution_count": 102,
   "metadata": {},
   "outputs": [
    {
     "data": {
      "text/plain": [
       "<Axes: xlabel='idh_ee', ylabel='Count'>"
      ]
     },
     "execution_count": 102,
     "metadata": {},
     "output_type": "execute_result"
    },
    {
     "data": {
      "image/png": "[encoded data removed]",
      "text/plain": [
       "<Figure size 640x480 with 1 Axes>"
      ]
     },
     "metadata": {},
     "output_type": "display_data"
    }
   ],
   "source": [
    "sns.histplot(x=\"idh_ee\", color=\"forestgreen\", bins=8, data=idh_2022)"
   ]
  },
  {
   "cell_type": "markdown",
   "metadata": {},
   "source": [
    "Uma segunda forma de alterar os intervalos de nosso histograma é estabelecendo um valor para a \"largura da cesta\", ou seja, para o tamanho de cada intervalo utilizado. Fazemos isso por meio do argumento `binwidth` da função `histplot`. \n",
    "\n",
    "Vamos, novamente, repetir o histograma da distribuição da expectativa de escolaridade, mas agora vamos alterar a construção dos intervalos por meio do argumento `binwidth`. Vamos estabelecer que cada intervalo do nosso histograma terá uma largura de 3 anos."
   ]
  },
  {
   "cell_type": "code",
   "execution_count": 103,
   "metadata": {},
   "outputs": [
    {
     "data": {
      "text/plain": [
       "<Axes: xlabel='idh_ee', ylabel='Count'>"
      ]
     },
     "execution_count": 103,
     "metadata": {},
     "output_type": "execute_result"
    },
    {
     "data": {
      "image/png": "[encoded data removed]",
      "text/plain": [
       "<Figure size 640x480 with 1 Axes>"
      ]
     },
     "metadata": {},
     "output_type": "display_data"
    }
   ],
   "source": [
    "sns.histplot(x=\"idh_ee\", color=\"forestgreen\", binwidth=3, data=idh_2022)"
   ]
  },
  {
   "cell_type": "markdown",
   "metadata": {},
   "source": [
    "### Formatos das distribuições\n",
    "\n",
    "Vamos agora seguir com a nossa análise das componentes do IDH. Já analisamos a expectativa de vida e a expectativa de escolaridade dos países em 2022, e vimos que ambas as métricas apresentaram um formato de distribuição normal, com valores concentrados nas faixas intermediárias e um número menor de casos com valores muito baixos ou muito altos.\n",
    "\n",
    "A próxima componente do IDH é a média de anos de escolaridade (coluna `\"idh_me\"` de nossa base). O código a seguir cria um histograma dessa variável, introduzindo uma nova cor para as barras do gráfico."
   ]
  },
  {
   "cell_type": "code",
   "execution_count": 99,
   "metadata": {},
   "outputs": [
    {
     "data": {
      "text/plain": [
       "<Axes: xlabel='idh_me', ylabel='Count'>"
      ]
     },
     "execution_count": 99,
     "metadata": {},
     "output_type": "execute_result"
    },
    {
     "data": {
      "image/png": "[encoded data removed]",
      "text/plain": [
       "<Figure size 640x480 with 1 Axes>"
      ]
     },
     "metadata": {},
     "output_type": "display_data"
    }
   ],
   "source": [
    "sns.histplot(x=\"idh_me\", color=\"lightcoral\", data=idh_2022)"
   ]
  },
  {
   "cell_type": "markdown",
   "metadata": {},
   "source": [
    "Pela primeira vez observamos uma distribuição de valores que não segue o formato da curva normal. A distribuição da média de anos de escolaridade dos países em 2022 segue um formato que chamamos de \"distorcido à esquerda\". Um histograma é distorcido à esquerda quando a frequência dos dados está concentrada nos valores mais altos, formando uma cauda à esquerda.\n",
    "\n",
    "Mas, por que pode ser importante entender esse formato da distribuição? Há inúmeras razões, mas uma das principais diz respeito a como devemos interpretar a média dessa variável. Quando a distribuição é distorcida à esquerda, a média da variável numérica será inferior ao valor da variável observado na maioria dos casos. Ou seja, em nosso caso, se tirarmos uma média da componente do IDH que estamos analisando, essa média será inferior ao valor da componente na maior parte dos países que estamos analisando. Isso acontece porque alguns poucos países com valores muito baixos estão \"puxando\" a média para baixo.\n",
    "\n",
    "Vamos, agora, criar o histograma da última componente do IDH, a renda per capita dos países. Essa variável está situada na coluna `\"idh_rpc\"` de nossa base e, como nos casos anteriores, será representada com uma cor própria no código a seguir."
   ]
  },
  {
   "cell_type": "code",
   "execution_count": 105,
   "metadata": {},
   "outputs": [
    {
     "data": {
      "text/plain": [
       "<Axes: xlabel='idh_rpc', ylabel='Count'>"
      ]
     },
     "execution_count": 105,
     "metadata": {},
     "output_type": "execute_result"
    },
    {
     "data": {
      "image/png": "[encoded data removed]",
      "text/plain": [
       "<Figure size 640x480 with 1 Axes>"
      ]
     },
     "metadata": {},
     "output_type": "display_data"
    }
   ],
   "source": [
    "sns.histplot(x=\"idh_rpc\", color=\"darkkhaki\", data=idh_2022)"
   ]
  },
  {
   "cell_type": "markdown",
   "metadata": {},
   "source": []
  },
  {
   "cell_type": "code",
   "execution_count": null,
   "metadata": {},
   "outputs": [],
   "source": []
  }
 ],
 "metadata": {
  "kernelspec": {
   "display_name": "base",
   "language": "python",
   "name": "python3"
  },
  "language_info": {
   "codemirror_mode": {
    "name": "ipython",
    "version": 3
   },
   "file_extension": ".py",
   "mimetype": "text/x-python",
   "name": "python",
   "nbconvert_exporter": "python",
   "pygments_lexer": "ipython3",
   "version": "3.12.4"
  }
 },
 "nbformat": 4,
 "nbformat_minor": 2
}
