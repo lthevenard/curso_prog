{
 "cells": [
  {
   "cell_type": "code",
   "execution_count": null,
   "metadata": {},
   "outputs": [],
   "source": []
  },
  {
   "cell_type": "markdown",
   "metadata": {},
   "source": [
    "\n",
    "No que podemos estar interessados, então?\n",
    "\n",
    "Um pergunta mais interessante seria como determinado país vem evoluindo no IDH, ou suas componentes, ao longo do tempo. Isso nos leva a um problema muito comum ao trabalhar com dados: precisamos filtrar nosso conjunto de dados.\n",
    "\n",
    "# Filtrando dados com o método `.query()`\n",
    "\n",
    "O que queremos fazer agora é manter apenas um conjunto de linhas de nossos dados, por exemplo, as linhas referentes ao Brasil. O que queremos selecionar apenas as linhas que satisfaçam uma condição. Para fazer isso, precisamos usar uma variável (coluna), e criar uma condição que define quais linhas queremos manter.\n",
    "\n",
    "Refs:\n",
    "\n",
    "1. https://www.youtube.com/watch?v=c1Xz9wXQSGM\n",
    "2. https://towardsdatascience.com/10-examples-that-will-make-you-use-pandas-query-function-more-often-a8fb3e9361cb\n"
   ]
  },
  {
   "cell_type": "markdown",
   "metadata": {},
   "source": []
  }
 ],
 "metadata": {
  "language_info": {
   "name": "python"
  }
 },
 "nbformat": 4,
 "nbformat_minor": 2
}
