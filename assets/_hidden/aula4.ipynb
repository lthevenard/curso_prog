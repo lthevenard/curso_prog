{
 "cells": [
  {
   "cell_type": "markdown",
   "metadata": {},
   "source": [
    "# Histplot: Conhecendo o formato de uma distribuição de valores\n",
    "\n",
    "Nessa aula vamos continuar expandindo o nosso vocabulário de vizualizações gráficas com um novo modelo de gráfico: o histograma. Vamos começar apresentando este gráfico, muito utilizado nas ciências exatas para compreender como uma variável numérica se comporta. Vamos, em seguida, começar a aprender a mexer nos eixos do gráfico e, ao final da aula, vamos também conferir uma outra ferramenta que podemos utilizar para visualizar o formato de uma distribuição: a curva de estimativa de densidade.\n",
    "\n",
    "## 1. O que é um histograma?\n",
    "\n",
    "Um histograma é uma ferramenta gráfica amplamente utilizada em análise de dados e estatística para representar a distribuição de um conjunto de dados. Ele é composto por barras verticais, cada uma representando a frequência de obervações em uma faixa de valores (ou intervalo).\n",
    "\n",
    "Imagine que você tem um grupo de dados, como as alturas de uma turma de estudantes. Um histograma pode ser usado para visualizar quantos alunos estão em cada faixa etária, por exemplo, quantos têm entre 1,50 metros e 1,60 metros, entre 1,60 e 1,70, e assim por diante. Cada uma dessas faixas de idade seria representada por uma barra no histograma, e a altura da barra mostraria quantos alunos estão dentro daquela faixa específica.\n",
    "\n",
    "O histograma é particularmente útil porque permite ver rapidamente a forma da distribuição dos dados, identificando padrões como concentrações de valores (onde as barras são mais altas) ou a presença de outliers (valores fora do padrão). Por permitir a visualização rápida e eficaz das tendências de uma variável numérica, histogramas são ferramentas poderosas usadas frequentemente em diversas áreas da pesquisa científica, não apenas nas ciências exatas e naturais, mas também em ciências sociais e políticas, em economia, entre outras.\n",
    "\n",
    "## 2. Utilizando a função histplot para criar histogramas\n",
    "\n",
    "A seguir, vamos aprender a criar histogramas utilizando a função `histplot` da biblioteca `seaborn`. No entanto, antes de começar a criar nossas visualizações, precisamos executar algumas linhas de código preliminares, já vistas nos capítulos anteriores, além de apresentar uma nova base de dados, que utilizaremos nesta aula.\n",
    "\n",
    "### 2.1. Passos preliminares\n",
    "\n",
    "Antes de iniciar qualquer tarefa de análise de dados e criação de gráficos, precisamos carregar as nossas já conhecidas bibliotecas.\n"
   ]
  },
  {
   "cell_type": "code",
   "execution_count": 77,
   "metadata": {},
   "outputs": [],
   "source": [
    "import pandas as pd\n",
    "import matplotlib.pyplot as plt\n",
    "import seaborn as sns"
   ]
  },
  {
   "cell_type": "markdown",
   "metadata": {},
   "source": [
    "Para criar nossos histogramas, vamos utilizar dados relacionados ao Índice de Desenvolvimento Humano – IDH de diversos países, disponibilizados pelo [Programa da Onu para o Desenvolvimento](https://hdr.undp.org/data-center/human-development-index#/indicies/HDI). Os dados já foram tratados para que tenhamos apenas uma seleção de variáveis de nosso interesse, em um formato **tidy**. A base completa possui dados dos países entre os anos de 1990 e 2022. Podemos acessar a versão tratada da base por meio da seguinte linha de código. "
   ]
  },
  {
   "cell_type": "code",
   "execution_count": null,
   "metadata": {},
   "outputs": [],
   "source": [
    "idh = pd.read_csv(\"https://bit.ly/idh_tidy\")"
   ]
  },
  {
   "cell_type": "markdown",
   "metadata": {},
   "source": [
    "Variáveis n\n",
    "\n",
    " - `idh`: Índice de Desenvolvimento Humano - IDH.\n",
    " - `idh_ev`: Expectativa de vida (Anos).\n",
    " - `idh_ee`: Expectativa de escolaridade (Anos).\n",
    " - `idh_me`: Média de escolaridade (Anos).\n",
    " - `idh_rpc`: Renda Per Capita (PPP$ em 2017).\n",
    " - `gdi`: Índice de Desenvolvimento de Gênero - IDG.\n",
    " - `gdi_idh_f`: Índice de Desenvolvimento Humano Feminino.\n",
    " - `gdi_idh_m`: Índice de Desenvolvimento Humano Masculino.\n",
    " - `gdi_ev_f`: Expectativa de vida das mulheres (Anos).\n",
    " - `gdi_ev_m`: Expectativa de vida dos homens (Anos).\n",
    " - `gdi_ee_f`: Expectativa de escolaridade das mulheres (Anos).\n",
    " - `gdi_ee_m`: Expectativa de escolaridade dos homens (Anos).\n",
    " - `gdi_me_f`: Média de escolaridade das mulheres (Anos).\n",
    " - `gdi_me_m`: Média de escolaridade dos homens (Anos).\n",
    " - `gdi_rpc_f`: Renda Per Capita das mulheres (PPP$ em 2017).\n",
    " - `gdi_rpc_m`: Renda Per Capita dos homens (PPP$ em 2017).\n",
    " - `extra_ap_f`: Assentos do parlamento ocupados por mulheres (%).\n",
    " - `extra_ap_m`: Assentos do parlamento ocupados por homens (%).\n",
    " - `extra_ft_f`: Mulheres com +15 anos na força de trabalho (%).\n",
    " - `extra_ft_m`: Homens com +15 anos na força de trabalho (%).\n",
    " - `extra_co2`: Emissão per capita de dióxido de carbono da produção (Toneladas).\n",
    " - `extra_pop`: População Total."
   ]
  },
  {
   "cell_type": "code",
   "execution_count": 25,
   "metadata": {},
   "outputs": [
    {
     "name": "stdout",
     "output_type": "stream",
     "text": [
      "<class 'pandas.core.frame.DataFrame'>\n",
      "RangeIndex: 344 entries, 0 to 343\n",
      "Data columns (total 7 columns):\n",
      " #   Column             Non-Null Count  Dtype  \n",
      "---  ------             --------------  -----  \n",
      " 0   species            344 non-null    object \n",
      " 1   island             344 non-null    object \n",
      " 2   bill_length_mm     342 non-null    float64\n",
      " 3   bill_depth_mm      342 non-null    float64\n",
      " 4   flipper_length_mm  342 non-null    float64\n",
      " 5   body_mass_g        342 non-null    float64\n",
      " 6   sex                333 non-null    object \n",
      "dtypes: float64(4), object(3)\n",
      "memory usage: 18.9+ KB\n"
     ]
    }
   ],
   "source": [
    "import pandas as pd\n",
    "import seaborn as sns\n",
    "import matplotlib.pyplot as plt\n",
    "\n",
    "penguins = sns.load_dataset(\"penguins\")\n",
    "penguins.info()"
   ]
  },
  {
   "cell_type": "code",
   "execution_count": 33,
   "metadata": {},
   "outputs": [],
   "source": [
    "idh_2022 = pd.read_csv(\"../data/idh_2022.csv\")"
   ]
  },
  {
   "cell_type": "code",
   "execution_count": 34,
   "metadata": {},
   "outputs": [
    {
     "data": {
      "text/html": [
       "<div>\n",
       "<style scoped>\n",
       "    .dataframe tbody tr th:only-of-type {\n",
       "        vertical-align: middle;\n",
       "    }\n",
       "\n",
       "    .dataframe tbody tr th {\n",
       "        vertical-align: top;\n",
       "    }\n",
       "\n",
       "    .dataframe thead th {\n",
       "        text-align: right;\n",
       "    }\n",
       "</style>\n",
       "<table border=\"1\" class=\"dataframe\">\n",
       "  <thead>\n",
       "    <tr style=\"text-align: right;\">\n",
       "      <th></th>\n",
       "      <th>sigla</th>\n",
       "      <th>pais</th>\n",
       "      <th>grupo_idh</th>\n",
       "      <th>regiao</th>\n",
       "      <th>ranking_idh</th>\n",
       "      <th>ano</th>\n",
       "      <th>idh</th>\n",
       "      <th>idh_ev</th>\n",
       "      <th>idh_ee</th>\n",
       "      <th>idh_me</th>\n",
       "      <th>...</th>\n",
       "      <th>gdi_ev_m</th>\n",
       "      <th>gdi_ee_m</th>\n",
       "      <th>gdi_me_m</th>\n",
       "      <th>gdi_rpc_m</th>\n",
       "      <th>extra_ap_f</th>\n",
       "      <th>extra_ap_m</th>\n",
       "      <th>extra_ft_f</th>\n",
       "      <th>extra_ft_m</th>\n",
       "      <th>extra_co2</th>\n",
       "      <th>extra_pop</th>\n",
       "    </tr>\n",
       "  </thead>\n",
       "  <tbody>\n",
       "    <tr>\n",
       "      <th>0</th>\n",
       "      <td>AFG</td>\n",
       "      <td>Afeganistão</td>\n",
       "      <td>Baixo</td>\n",
       "      <td>Ásia do Sul</td>\n",
       "      <td>182.0</td>\n",
       "      <td>2022</td>\n",
       "      <td>0.462</td>\n",
       "      <td>62.879</td>\n",
       "      <td>10.705385</td>\n",
       "      <td>2.514790</td>\n",
       "      <td>...</td>\n",
       "      <td>59.766</td>\n",
       "      <td>13.228449</td>\n",
       "      <td>3.912740</td>\n",
       "      <td>2256.217507</td>\n",
       "      <td>27.215190</td>\n",
       "      <td>72.784810</td>\n",
       "      <td>23.33</td>\n",
       "      <td>77.09</td>\n",
       "      <td>0.306318</td>\n",
       "      <td>41.128771</td>\n",
       "    </tr>\n",
       "    <tr>\n",
       "      <th>1</th>\n",
       "      <td>ALB</td>\n",
       "      <td>Albânia</td>\n",
       "      <td>Alto</td>\n",
       "      <td>Europa e Ásia Central</td>\n",
       "      <td>74.0</td>\n",
       "      <td>2022</td>\n",
       "      <td>0.789</td>\n",
       "      <td>76.833</td>\n",
       "      <td>14.487470</td>\n",
       "      <td>10.121144</td>\n",
       "      <td>...</td>\n",
       "      <td>74.502</td>\n",
       "      <td>14.292200</td>\n",
       "      <td>10.433855</td>\n",
       "      <td>17398.003690</td>\n",
       "      <td>35.714286</td>\n",
       "      <td>64.285714</td>\n",
       "      <td>56.08</td>\n",
       "      <td>69.91</td>\n",
       "      <td>1.717758</td>\n",
       "      <td>2.842321</td>\n",
       "    </tr>\n",
       "    <tr>\n",
       "      <th>2</th>\n",
       "      <td>DZA</td>\n",
       "      <td>Argélia</td>\n",
       "      <td>Alto</td>\n",
       "      <td>Países Árabes</td>\n",
       "      <td>93.0</td>\n",
       "      <td>2022</td>\n",
       "      <td>0.745</td>\n",
       "      <td>77.129</td>\n",
       "      <td>15.487880</td>\n",
       "      <td>6.987444</td>\n",
       "      <td>...</td>\n",
       "      <td>75.853</td>\n",
       "      <td>14.743880</td>\n",
       "      <td>7.481537</td>\n",
       "      <td>17858.790780</td>\n",
       "      <td>7.005254</td>\n",
       "      <td>92.994746</td>\n",
       "      <td>17.57</td>\n",
       "      <td>65.53</td>\n",
       "      <td>4.079540</td>\n",
       "      <td>44.903225</td>\n",
       "    </tr>\n",
       "    <tr>\n",
       "      <th>3</th>\n",
       "      <td>AND</td>\n",
       "      <td>Andorra</td>\n",
       "      <td>Muito Alto</td>\n",
       "      <td>NaN</td>\n",
       "      <td>35.0</td>\n",
       "      <td>2022</td>\n",
       "      <td>0.884</td>\n",
       "      <td>83.552</td>\n",
       "      <td>12.783780</td>\n",
       "      <td>11.613440</td>\n",
       "      <td>...</td>\n",
       "      <td>81.430</td>\n",
       "      <td>12.810630</td>\n",
       "      <td>11.704380</td>\n",
       "      <td>NaN</td>\n",
       "      <td>46.428571</td>\n",
       "      <td>53.571429</td>\n",
       "      <td>NaN</td>\n",
       "      <td>NaN</td>\n",
       "      <td>4.593593</td>\n",
       "      <td>0.079824</td>\n",
       "    </tr>\n",
       "    <tr>\n",
       "      <th>4</th>\n",
       "      <td>AGO</td>\n",
       "      <td>Angola</td>\n",
       "      <td>Mediano</td>\n",
       "      <td>África Sub-sahariana</td>\n",
       "      <td>150.0</td>\n",
       "      <td>2022</td>\n",
       "      <td>0.591</td>\n",
       "      <td>61.929</td>\n",
       "      <td>12.167600</td>\n",
       "      <td>5.844292</td>\n",
       "      <td>...</td>\n",
       "      <td>59.351</td>\n",
       "      <td>12.909900</td>\n",
       "      <td>7.187960</td>\n",
       "      <td>5973.845631</td>\n",
       "      <td>33.636364</td>\n",
       "      <td>66.363636</td>\n",
       "      <td>74.73</td>\n",
       "      <td>78.16</td>\n",
       "      <td>0.507359</td>\n",
       "      <td>35.588987</td>\n",
       "    </tr>\n",
       "  </tbody>\n",
       "</table>\n",
       "<p>5 rows × 28 columns</p>\n",
       "</div>"
      ],
      "text/plain": [
       "  sigla         pais   grupo_idh                 regiao  ranking_idh   ano  \\\n",
       "0   AFG  Afeganistão       Baixo            Ásia do Sul        182.0  2022   \n",
       "1   ALB      Albânia        Alto  Europa e Ásia Central         74.0  2022   \n",
       "2   DZA      Argélia        Alto          Países Árabes         93.0  2022   \n",
       "3   AND      Andorra  Muito Alto                    NaN         35.0  2022   \n",
       "4   AGO       Angola     Mediano   África Sub-sahariana        150.0  2022   \n",
       "\n",
       "     idh  idh_ev     idh_ee     idh_me  ...  gdi_ev_m   gdi_ee_m   gdi_me_m  \\\n",
       "0  0.462  62.879  10.705385   2.514790  ...    59.766  13.228449   3.912740   \n",
       "1  0.789  76.833  14.487470  10.121144  ...    74.502  14.292200  10.433855   \n",
       "2  0.745  77.129  15.487880   6.987444  ...    75.853  14.743880   7.481537   \n",
       "3  0.884  83.552  12.783780  11.613440  ...    81.430  12.810630  11.704380   \n",
       "4  0.591  61.929  12.167600   5.844292  ...    59.351  12.909900   7.187960   \n",
       "\n",
       "      gdi_rpc_m  extra_ap_f  extra_ap_m  extra_ft_f  extra_ft_m  extra_co2  \\\n",
       "0   2256.217507   27.215190   72.784810       23.33       77.09   0.306318   \n",
       "1  17398.003690   35.714286   64.285714       56.08       69.91   1.717758   \n",
       "2  17858.790780    7.005254   92.994746       17.57       65.53   4.079540   \n",
       "3           NaN   46.428571   53.571429         NaN         NaN   4.593593   \n",
       "4   5973.845631   33.636364   66.363636       74.73       78.16   0.507359   \n",
       "\n",
       "   extra_pop  \n",
       "0  41.128771  \n",
       "1   2.842321  \n",
       "2  44.903225  \n",
       "3   0.079824  \n",
       "4  35.588987  \n",
       "\n",
       "[5 rows x 28 columns]"
      ]
     },
     "execution_count": 34,
     "metadata": {},
     "output_type": "execute_result"
    }
   ],
   "source": [
    "idh_2022.head()"
   ]
  },
  {
   "cell_type": "code",
   "execution_count": 36,
   "metadata": {},
   "outputs": [
    {
     "data": {
      "text/plain": [
       "<Axes: xlabel='idh_ev', ylabel='Count'>"
      ]
     },
     "execution_count": 36,
     "metadata": {},
     "output_type": "execute_result"
    },
    {
     "data": {
      "image/png": "[encoded data removed]",
      "text/plain": [
       "<Figure size 640x480 with 1 Axes>"
      ]
     },
     "metadata": {},
     "output_type": "display_data"
    }
   ],
   "source": [
    "sns.histplot(x=\"idh_ev\", data=idh_2022)"
   ]
  },
  {
   "cell_type": "code",
   "execution_count": 37,
   "metadata": {},
   "outputs": [
    {
     "data": {
      "text/plain": [
       "<Axes: xlabel='idh_ee', ylabel='Count'>"
      ]
     },
     "execution_count": 37,
     "metadata": {},
     "output_type": "execute_result"
    },
    {
     "data": {
      "image/png": "[encoded data removed]",
      "text/plain": [
       "<Figure size 640x480 with 1 Axes>"
      ]
     },
     "metadata": {},
     "output_type": "display_data"
    }
   ],
   "source": [
    "sns.histplot(x=\"idh_ee\", data=idh_2022)"
   ]
  },
  {
   "cell_type": "code",
   "execution_count": 38,
   "metadata": {},
   "outputs": [
    {
     "data": {
      "text/plain": [
       "<Axes: xlabel='idh_me', ylabel='Count'>"
      ]
     },
     "execution_count": 38,
     "metadata": {},
     "output_type": "execute_result"
    },
    {
     "data": {
      "image/png": "[encoded data removed]",
      "text/plain": [
       "<Figure size 640x480 with 1 Axes>"
      ]
     },
     "metadata": {},
     "output_type": "display_data"
    }
   ],
   "source": [
    "sns.histplot(x=\"idh_me\", data=idh_2022)"
   ]
  },
  {
   "cell_type": "code",
   "execution_count": 39,
   "metadata": {},
   "outputs": [
    {
     "data": {
      "text/plain": [
       "<Axes: xlabel='idh_rpc', ylabel='Count'>"
      ]
     },
     "execution_count": 39,
     "metadata": {},
     "output_type": "execute_result"
    },
    {
     "data": {
      "image/png": "[encoded data removed]",
      "text/plain": [
       "<Figure size 640x480 with 1 Axes>"
      ]
     },
     "metadata": {},
     "output_type": "display_data"
    }
   ],
   "source": [
    "sns.histplot(x=\"idh_rpc\", data=idh_2022)"
   ]
  },
  {
   "cell_type": "code",
   "execution_count": 68,
   "metadata": {},
   "outputs": [],
   "source": []
  }
 ],
 "metadata": {
  "kernelspec": {
   "display_name": "base",
   "language": "python",
   "name": "python3"
  },
  "language_info": {
   "codemirror_mode": {
    "name": "ipython",
    "version": 3
   },
   "file_extension": ".py",
   "mimetype": "text/x-python",
   "name": "python",
   "nbconvert_exporter": "python",
   "pygments_lexer": "ipython3",
   "version": "3.12.4"
  }
 },
 "nbformat": 4,
 "nbformat_minor": 2
}
