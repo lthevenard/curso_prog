{
 "cells": [
  {
   "cell_type": "code",
   "execution_count": 1,
   "metadata": {},
   "outputs": [],
   "source": [
    "import pandas as pd\n",
    "import seaborn as sns\n",
    "import matplotlib.pyplot as plt"
   ]
  },
  {
   "cell_type": "code",
   "execution_count": 2,
   "metadata": {},
   "outputs": [
    {
     "data": {
      "text/html": [
       "<div>\n",
       "<style scoped>\n",
       "    .dataframe tbody tr th:only-of-type {\n",
       "        vertical-align: middle;\n",
       "    }\n",
       "\n",
       "    .dataframe tbody tr th {\n",
       "        vertical-align: top;\n",
       "    }\n",
       "\n",
       "    .dataframe thead th {\n",
       "        text-align: right;\n",
       "    }\n",
       "</style>\n",
       "<table border=\"1\" class=\"dataframe\">\n",
       "  <thead>\n",
       "    <tr style=\"text-align: right;\">\n",
       "      <th></th>\n",
       "      <th>ano_emenda</th>\n",
       "      <th>codigo_emenda</th>\n",
       "      <th>numero_emenda</th>\n",
       "      <th>tipo_emenda</th>\n",
       "      <th>nome_autor_emenda</th>\n",
       "      <th>localidade_gasto</th>\n",
       "      <th>id_municipio_gasto</th>\n",
       "      <th>sigla_uf_gasto</th>\n",
       "      <th>nome_funcao</th>\n",
       "      <th>nome_subfuncao</th>\n",
       "      <th>valor_empenhado</th>\n",
       "      <th>pago_integralmente</th>\n",
       "    </tr>\n",
       "  </thead>\n",
       "  <tbody>\n",
       "    <tr>\n",
       "      <th>0</th>\n",
       "      <td>2015</td>\n",
       "      <td>201512550013</td>\n",
       "      <td>0013</td>\n",
       "      <td>Emenda Individual - Transferências</td>\n",
       "      <td>FATIMA BEZERRA</td>\n",
       "      <td>RIO GRANDE DO NORTE (UF)</td>\n",
       "      <td>NaN</td>\n",
       "      <td>RN</td>\n",
       "      <td>Saúde</td>\n",
       "      <td>Múltiplo</td>\n",
       "      <td>848670.0</td>\n",
       "      <td>1</td>\n",
       "    </tr>\n",
       "    <tr>\n",
       "      <th>1</th>\n",
       "      <td>2015</td>\n",
       "      <td>201517990005</td>\n",
       "      <td>0005</td>\n",
       "      <td>Emenda Individual - Transferências</td>\n",
       "      <td>BETO MANSUR</td>\n",
       "      <td>SÃO PAULO (UF)</td>\n",
       "      <td>NaN</td>\n",
       "      <td>SP</td>\n",
       "      <td>Saúde</td>\n",
       "      <td>Múltiplo</td>\n",
       "      <td>459020.0</td>\n",
       "      <td>1</td>\n",
       "    </tr>\n",
       "    <tr>\n",
       "      <th>2</th>\n",
       "      <td>2015</td>\n",
       "      <td>201519680007</td>\n",
       "      <td>0007</td>\n",
       "      <td>Emenda Individual - Transferências</td>\n",
       "      <td>GIACOBO</td>\n",
       "      <td>PARANÁ (UF)</td>\n",
       "      <td>NaN</td>\n",
       "      <td>PR</td>\n",
       "      <td>Saúde</td>\n",
       "      <td>Múltiplo</td>\n",
       "      <td>1905120.1</td>\n",
       "      <td>0</td>\n",
       "    </tr>\n",
       "  </tbody>\n",
       "</table>\n",
       "</div>"
      ],
      "text/plain": [
       "   ano_emenda codigo_emenda numero_emenda                         tipo_emenda  \\\n",
       "0        2015  201512550013          0013  Emenda Individual - Transferências   \n",
       "1        2015  201517990005          0005  Emenda Individual - Transferências   \n",
       "2        2015  201519680007          0007  Emenda Individual - Transferências   \n",
       "\n",
       "  nome_autor_emenda          localidade_gasto  id_municipio_gasto  \\\n",
       "0    FATIMA BEZERRA  RIO GRANDE DO NORTE (UF)                 NaN   \n",
       "1       BETO MANSUR            SÃO PAULO (UF)                 NaN   \n",
       "2           GIACOBO               PARANÁ (UF)                 NaN   \n",
       "\n",
       "  sigla_uf_gasto nome_funcao nome_subfuncao  valor_empenhado  \\\n",
       "0             RN       Saúde       Múltiplo         848670.0   \n",
       "1             SP       Saúde       Múltiplo         459020.0   \n",
       "2             PR       Saúde       Múltiplo        1905120.1   \n",
       "\n",
       "   pago_integralmente  \n",
       "0                   1  \n",
       "1                   1  \n",
       "2                   0  "
      ]
     },
     "execution_count": 2,
     "metadata": {},
     "output_type": "execute_result"
    }
   ],
   "source": [
    "df = pd.read_csv(\"cgu_emendas_parlamentares_tidy.csv\")\n",
    "\n",
    "df.head(3)"
   ]
  },
  {
   "cell_type": "markdown",
   "metadata": {},
   "source": [
    "Vamos começar coletando algumas informações básicas sobre nosso conjunto de dados. Para determinar o que podemos fazer com eles, precisamos saber quais informações temos disponíveis e seu formato.\n",
    "\n",
    "# Informações básicas sobre o conjunto de dados\n",
    "\n",
    "Para saber as colunas incluídas, e o tipo de variável vamos usar o método `info()`. Isso nos retornará além de uma listagem das colunas, o número de linhas preenchidas e o tipo de variável em cada uma delas."
   ]
  },
  {
   "cell_type": "code",
   "execution_count": 3,
   "metadata": {},
   "outputs": [
    {
     "name": "stdout",
     "output_type": "stream",
     "text": [
      "<class 'pandas.core.frame.DataFrame'>\n",
      "RangeIndex: 66102 entries, 0 to 66101\n",
      "Data columns (total 12 columns):\n",
      " #   Column              Non-Null Count  Dtype  \n",
      "---  ------              --------------  -----  \n",
      " 0   ano_emenda          66102 non-null  int64  \n",
      " 1   codigo_emenda       66102 non-null  object \n",
      " 2   numero_emenda       66102 non-null  object \n",
      " 3   tipo_emenda         66102 non-null  object \n",
      " 4   nome_autor_emenda   66102 non-null  object \n",
      " 5   localidade_gasto    66102 non-null  object \n",
      " 6   id_municipio_gasto  17241 non-null  float64\n",
      " 7   sigla_uf_gasto      60327 non-null  object \n",
      " 8   nome_funcao         66102 non-null  object \n",
      " 9   nome_subfuncao      66102 non-null  object \n",
      " 10  valor_empenhado     66102 non-null  float64\n",
      " 11  pago_integralmente  66102 non-null  int64  \n",
      "dtypes: float64(2), int64(2), object(8)\n",
      "memory usage: 6.1+ MB\n"
     ]
    }
   ],
   "source": [
    "df.info()"
   ]
  },
  {
   "cell_type": "markdown",
   "metadata": {},
   "source": [
    "Temos um conjunto de informações interessante que nos permitem caminhos diferentes para explorar e analisar os dados. Podemos tomar um caminho mais geral, analisando informações sobre todo o conjunto de dados. Poderíamos também tomar uma abordagem mais específica, analisando informações sobre uma área de gastos (`nome_funcao`), ou uma Unidade Federativa específica.\n",
    "\n",
    "Além disso, podemos analisar aspectos diferentes, como o Número de propostas, o valor total previsto ou apenas o valor das propostas pagas em sua integralidade.\n",
    "\n",
    "A melhor ideia ao nos depararmos com um conjunto de dados desconhecido é entender o comportamento das colunas que desejamos utilizar. Por exemplo, podemos começar verificando a distribuição de variáveis categoricas usando um `countplot` ou a distribuição de variáveis numéricas usando um `histplot`.\n",
    "\n",
    "Uma outra forma de visualizar contagem de valores é usando o método `value_counts()`. Ele nos retorna a contagem de valores únicos em uma coluna específica, semelhante ao que aconteceria se criássemos um countplot.\n",
    "\n",
    "Vamos observar as diferentes funções governamentais que podem receber valores através de emendas parlamentares."
   ]
  },
  {
   "cell_type": "code",
   "execution_count": 4,
   "metadata": {},
   "outputs": [
    {
     "data": {
      "text/plain": [
       "nome_funcao\n",
       "Saúde                    27636\n",
       "Educação                  6004\n",
       "Urbanismo                 5866\n",
       "Encargos especiais        3831\n",
       "Agricultura               3181\n",
       "Desporto e lazer          3169\n",
       "Assistência social        2873\n",
       "Defesa nacional           2457\n",
       "Direitos da cidadania     2284\n",
       "Segurança pública         1851\n",
       "Cultura                   1846\n",
       "Comércio e serviços       1670\n",
       "Ciência e Tecnologia       647\n",
       "Gestão ambiental           622\n",
       "Organização agrária        604\n",
       "Transporte                 383\n",
       "Múltiplo                   346\n",
       "Trabalho                   308\n",
       "Comunicações               121\n",
       "Indústria                  109\n",
       "Saneamento                  82\n",
       "Administração               78\n",
       "Relações exteriores         62\n",
       "Habitação                   44\n",
       "Previdência social          20\n",
       "Energia                      6\n",
       "Essencial à justiça          2\n",
       "Name: count, dtype: int64"
      ]
     },
     "execution_count": 4,
     "metadata": {},
     "output_type": "execute_result"
    }
   ],
   "source": [
    "df[\"nome_funcao\"].value_counts()"
   ]
  },
  {
   "cell_type": "markdown",
   "metadata": {},
   "source": [
    "Poderíamos também criar um `countplot` para visualizar a informação, mas como temos muitas categorias diferentes, a visualização pode não ficar muito boa. Se não vamos apresentar essa informação para outras pessoas, o método `value_counts()` é suficiente para nossa exploração inicial.\n",
    "\n",
    "Vamos criar um gráfico para entender a coluna `pago_integralmente`:"
   ]
  },
  {
   "cell_type": "code",
   "execution_count": 5,
   "metadata": {},
   "outputs": [
    {
     "data": {
      "text/plain": [
       "<Axes: xlabel='pago_integralmente', ylabel='count'>"
      ]
     },
     "execution_count": 5,
     "metadata": {},
     "output_type": "execute_result"
    },
    {
     "data": {
      "image/png": "[encoded data removed]",
      "text/plain": [
       "<Figure size 640x480 with 1 Axes>"
      ]
     },
     "metadata": {},
     "output_type": "display_data"
    }
   ],
   "source": [
    "sns.countplot(\n",
    "    x=\"pago_integralmente\",\n",
    "    data=df,\n",
    ")"
   ]
  },
  {
   "cell_type": "markdown",
   "metadata": {},
   "source": [
    "Essa é a primeira vez que nos deparramos com uma coluna desse tipo no curso. Costumamos chamar esse tipo de coluna com valor binários de variáveis *dummies*. Elas são muito comuns em análise de dados, e são usadas para representar variáveis categóricas que possuem apenas dois valores possíveis (podemos usar múltiplas colunas para representar variáveis categóricas com mais de dois valores possíveis, mas não abordaremos isso agora).\n",
    "\n",
    "Geralmente a coluna vai indicar a presença (1) ou ausência (0) de uma característica. Nesse caso, a coluna `pago_integralmente` indica se a emenda foi paga integralmente pelo governo (1) ou não (0). Além de ser uma forma simples de representar informações, também traz muitas vantagens para modelar e explorar uma variável.\n",
    "\n",
    "Vamos criar um gráfico para entender como podemos fazer uso desse tipo de informação presente na coluna `pago_integralmente`:"
   ]
  },
  {
   "cell_type": "code",
   "execution_count": 8,
   "metadata": {},
   "outputs": [
    {
     "data": {
      "text/plain": [
       "<Axes: xlabel='pago_integralmente', ylabel='tipo_emenda'>"
      ]
     },
     "execution_count": 8,
     "metadata": {},
     "output_type": "execute_result"
    },
    {
     "data": {
      "image/png": "[encoded data removed]",
      "text/plain": [
       "<Figure size 640x480 with 1 Axes>"
      ]
     },
     "metadata": {},
     "output_type": "display_data"
    }
   ],
   "source": [
    "sns.barplot(\n",
    "    y=\"tipo_emenda\",\n",
    "    x=\"pago_integralmente\",\n",
    "    data=df,\n",
    ")"
   ]
  },
  {
   "cell_type": "markdown",
   "metadata": {},
   "source": [
    "Antes de determinamos o significado exato desse gráfico, devemos nos lembrar que por padrão o seborn usa o argumento `estimator=\"mean\"`. Ou seja, cada barra contém a média da coluna `pago_integralmente` para cada categoria de `tipo_emenda`. Mas o que isso significa?\n",
    "\n",
    "Imagine que jogamos uma moeda para cima 5 vezes, anotando seu valor como 1 para resultados de cara e 0 de coroa. Armazenamos os valores de duas rodadas em listas e ao final temos o seguinte resultado:\n",
    "\n",
    "```python\n",
    "resultados_1 = [1, 0, 1, 1, 0]\n",
    "\n",
    "resiçtados_2 = [1, 0, 0, 0, 0]\n",
    "```\n",
    "\n",
    "Se calcularmos a média desses valores, teremos: $(1 + 0 + 1 + 1 + 0) / 5 = 0.6$ para o primeiro experimento e $1 / 5 = 0.2$ para o segundo. Antes de continuar a leitura, tente responder o que cada um desses valores nos diz sobre o resultado total do experimento."
   ]
  },
  {
   "cell_type": "markdown",
   "metadata": {},
   "source": []
  }
 ],
 "metadata": {
  "kernelspec": {
   "display_name": "eda_312",
   "language": "python",
   "name": "python3"
  },
  "language_info": {
   "codemirror_mode": {
    "name": "ipython",
    "version": 3
   },
   "file_extension": ".py",
   "mimetype": "text/x-python",
   "name": "python",
   "nbconvert_exporter": "python",
   "pygments_lexer": "ipython3",
   "version": "3.12.3"
  }
 },
 "nbformat": 4,
 "nbformat_minor": 2
}
